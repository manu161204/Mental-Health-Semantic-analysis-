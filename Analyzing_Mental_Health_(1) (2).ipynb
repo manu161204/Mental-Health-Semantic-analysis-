{
  "cells": [
    {
      "cell_type": "markdown",
      "metadata": {
        "id": "_XW7wwLt5Drr",
        "papermill": {
          "duration": 0.065466,
          "end_time": "2020-11-30T07:38:51.578836",
          "exception": false,
          "start_time": "2020-11-30T07:38:51.51337",
          "status": "completed"
        },
        "tags": []
      },
      "source": [
        "<div class=\"alert alert-block alert-danger\">  \n",
        "<h2><center><strong>Importing Python Libraries </strong></center></h2>\n",
        "        \n",
        "</div>"
      ]
    },
    {
      "cell_type": "code",
      "execution_count": null,
      "metadata": {
        "execution": {
          "iopub.execute_input": "2023-04-03T08:06:57.322357Z",
          "iopub.status.busy": "2023-04-03T08:06:57.321911Z",
          "iopub.status.idle": "2023-04-03T08:06:59.98071Z",
          "shell.execute_reply": "2023-04-03T08:06:59.979609Z",
          "shell.execute_reply.started": "2023-04-03T08:06:57.322267Z"
        },
        "id": "-E4TvIVLMa73",
        "scrolled": true,
        "trusted": true
      },
      "outputs": [],
      "source": [
        "import numpy as np\n",
        "import pandas as pd\n",
        "from pandas._config import option_context\n",
        "import seaborn as sns\n",
        "import matplotlib.pyplot as plt\n",
        "plt.style.use('ggplot')\n",
        "from sklearn.metrics import roc_curve, auc\n",
        "from sklearn.metrics import classification_report, confusion_matrix\n",
        "import nltk\n",
        "from nltk.corpus import stopwords\n",
        "from nltk.stem import PorterStemmer\n",
        "from sklearn.model_selection import train_test_split\n",
        "from mlxtend.plotting import plot_confusion_matrix\n",
        "import matplotlib.cm as cm\n",
        "from matplotlib import rcParams\n",
        "from collections import Counter\n",
        "from nltk.tokenize import RegexpTokenizer\n",
        "import re\n",
        "import string\n",
        "from tensorflow.keras.layers import LSTM, Activation, Dense, Dropout, Input, Embedding\n",
        "from tensorflow.keras.models import Model\n",
        "from tensorflow.keras.optimizers import RMSprop\n",
        "from tensorflow.keras.preprocessing.text import Tokenizer\n",
        "from tensorflow.keras.preprocessing import sequence\n",
        "%matplotlib inline\n",
        "\n",
        "import warnings\n",
        "warnings.filterwarnings(\"ignore\")"
      ]
    },
    {
      "cell_type": "markdown",
      "metadata": {
        "id": "njCBulz25Drt",
        "papermill": {
          "duration": 0.065466,
          "end_time": "2020-11-30T07:38:51.578836",
          "exception": false,
          "start_time": "2020-11-30T07:38:51.51337",
          "status": "completed"
        },
        "tags": []
      },
      "source": [
        "<div class=\"alert alert-block alert-danger\">  \n",
        "<h2><center><strong>Loading the data </strong></center></h2>\n",
        "        \n",
        "</div>"
      ]
    },
    {
      "cell_type": "code",
      "execution_count": null,
      "metadata": {
        "execution": {
          "iopub.execute_input": "2023-04-03T08:06:59.983639Z",
          "iopub.status.busy": "2023-04-03T08:06:59.983151Z",
          "iopub.status.idle": "2023-04-03T08:07:13.73835Z",
          "shell.execute_reply": "2023-04-03T08:07:13.73733Z",
          "shell.execute_reply.started": "2023-04-03T08:06:59.983591Z"
        },
        "id": "BNQn-gvb5Dru",
        "trusted": true
      },
      "outputs": [],
      "source": [
        "data = pd.read_csv(\"/content/updated_excel.csv\", encoding=\"ISO-8859-1\", engine=\"c\")\n",
        "data.columns = [\"label\",\"text\"]"
      ]
    },
    {
      "cell_type": "code",
      "source": [
        "import os\n",
        "print(os.getcwd())\n"
      ],
      "metadata": {
        "colab": {
          "base_uri": "https://localhost:8080/"
        },
        "id": "F2euWux4nKN0",
        "outputId": "59a6aadf-9936-434c-d75c-28ae9c767a29"
      },
      "execution_count": null,
      "outputs": [
        {
          "output_type": "stream",
          "name": "stdout",
          "text": [
            "/content\n"
          ]
        }
      ]
    },
    {
      "cell_type": "markdown",
      "metadata": {
        "id": "oGMIPyjj5Dru",
        "papermill": {
          "duration": 0.065466,
          "end_time": "2020-11-30T07:38:51.578836",
          "exception": false,
          "start_time": "2020-11-30T07:38:51.51337",
          "status": "completed"
        },
        "tags": []
      },
      "source": [
        "<div class=\"alert alert-block alert-danger\">  \n",
        "<h2><center><strong>Exploratory data analysis </strong></center></h2>\n",
        "        \n",
        "</div>"
      ]
    },
    {
      "cell_type": "markdown",
      "metadata": {
        "id": "N8kB1-dX5Dru"
      },
      "source": [
        "#### Five top records of data"
      ]
    },
    {
      "cell_type": "code",
      "execution_count": null,
      "metadata": {
        "execution": {
          "iopub.execute_input": "2023-04-03T08:07:13.740591Z",
          "iopub.status.busy": "2023-04-03T08:07:13.740119Z",
          "iopub.status.idle": "2023-04-03T08:07:13.762702Z",
          "shell.execute_reply": "2023-04-03T08:07:13.761647Z",
          "shell.execute_reply.started": "2023-04-03T08:07:13.740542Z"
        },
        "id": "SRUJ3OOu5Dru",
        "trusted": true,
        "colab": {
          "base_uri": "https://localhost:8080/",
          "height": 206
        },
        "outputId": "6d38443a-90cb-45f5-8276-c82b29a20368"
      },
      "outputs": [
        {
          "output_type": "execute_result",
          "data": {
            "text/plain": [
              "   label                                               text\n",
              "0      0                             i want to see my baby \n",
              "1      0  Gearing up for a tainted love filled Friday!  ...\n",
              "2      0                               missing the puppies \n",
              "3      0  @MissKellyO what the hell is it? I think I'm g...\n",
              "4      0     @filmmakerjoe i wish i was in vegas right now "
            ],
            "text/html": [
              "\n",
              "  <div id=\"df-6dc2cd40-122d-4ce9-a543-62f76b9eebdc\" class=\"colab-df-container\">\n",
              "    <div>\n",
              "<style scoped>\n",
              "    .dataframe tbody tr th:only-of-type {\n",
              "        vertical-align: middle;\n",
              "    }\n",
              "\n",
              "    .dataframe tbody tr th {\n",
              "        vertical-align: top;\n",
              "    }\n",
              "\n",
              "    .dataframe thead th {\n",
              "        text-align: right;\n",
              "    }\n",
              "</style>\n",
              "<table border=\"1\" class=\"dataframe\">\n",
              "  <thead>\n",
              "    <tr style=\"text-align: right;\">\n",
              "      <th></th>\n",
              "      <th>label</th>\n",
              "      <th>text</th>\n",
              "    </tr>\n",
              "  </thead>\n",
              "  <tbody>\n",
              "    <tr>\n",
              "      <th>0</th>\n",
              "      <td>0</td>\n",
              "      <td>i want to see my baby</td>\n",
              "    </tr>\n",
              "    <tr>\n",
              "      <th>1</th>\n",
              "      <td>0</td>\n",
              "      <td>Gearing up for a tainted love filled Friday!  ...</td>\n",
              "    </tr>\n",
              "    <tr>\n",
              "      <th>2</th>\n",
              "      <td>0</td>\n",
              "      <td>missing the puppies</td>\n",
              "    </tr>\n",
              "    <tr>\n",
              "      <th>3</th>\n",
              "      <td>0</td>\n",
              "      <td>@MissKellyO what the hell is it? I think I'm g...</td>\n",
              "    </tr>\n",
              "    <tr>\n",
              "      <th>4</th>\n",
              "      <td>0</td>\n",
              "      <td>@filmmakerjoe i wish i was in vegas right now</td>\n",
              "    </tr>\n",
              "  </tbody>\n",
              "</table>\n",
              "</div>\n",
              "    <div class=\"colab-df-buttons\">\n",
              "\n",
              "  <div class=\"colab-df-container\">\n",
              "    <button class=\"colab-df-convert\" onclick=\"convertToInteractive('df-6dc2cd40-122d-4ce9-a543-62f76b9eebdc')\"\n",
              "            title=\"Convert this dataframe to an interactive table.\"\n",
              "            style=\"display:none;\">\n",
              "\n",
              "  <svg xmlns=\"http://www.w3.org/2000/svg\" height=\"24px\" viewBox=\"0 -960 960 960\">\n",
              "    <path d=\"M120-120v-720h720v720H120Zm60-500h600v-160H180v160Zm220 220h160v-160H400v160Zm0 220h160v-160H400v160ZM180-400h160v-160H180v160Zm440 0h160v-160H620v160ZM180-180h160v-160H180v160Zm440 0h160v-160H620v160Z\"/>\n",
              "  </svg>\n",
              "    </button>\n",
              "\n",
              "  <style>\n",
              "    .colab-df-container {\n",
              "      display:flex;\n",
              "      gap: 12px;\n",
              "    }\n",
              "\n",
              "    .colab-df-convert {\n",
              "      background-color: #E8F0FE;\n",
              "      border: none;\n",
              "      border-radius: 50%;\n",
              "      cursor: pointer;\n",
              "      display: none;\n",
              "      fill: #1967D2;\n",
              "      height: 32px;\n",
              "      padding: 0 0 0 0;\n",
              "      width: 32px;\n",
              "    }\n",
              "\n",
              "    .colab-df-convert:hover {\n",
              "      background-color: #E2EBFA;\n",
              "      box-shadow: 0px 1px 2px rgba(60, 64, 67, 0.3), 0px 1px 3px 1px rgba(60, 64, 67, 0.15);\n",
              "      fill: #174EA6;\n",
              "    }\n",
              "\n",
              "    .colab-df-buttons div {\n",
              "      margin-bottom: 4px;\n",
              "    }\n",
              "\n",
              "    [theme=dark] .colab-df-convert {\n",
              "      background-color: #3B4455;\n",
              "      fill: #D2E3FC;\n",
              "    }\n",
              "\n",
              "    [theme=dark] .colab-df-convert:hover {\n",
              "      background-color: #434B5C;\n",
              "      box-shadow: 0px 1px 3px 1px rgba(0, 0, 0, 0.15);\n",
              "      filter: drop-shadow(0px 1px 2px rgba(0, 0, 0, 0.3));\n",
              "      fill: #FFFFFF;\n",
              "    }\n",
              "  </style>\n",
              "\n",
              "    <script>\n",
              "      const buttonEl =\n",
              "        document.querySelector('#df-6dc2cd40-122d-4ce9-a543-62f76b9eebdc button.colab-df-convert');\n",
              "      buttonEl.style.display =\n",
              "        google.colab.kernel.accessAllowed ? 'block' : 'none';\n",
              "\n",
              "      async function convertToInteractive(key) {\n",
              "        const element = document.querySelector('#df-6dc2cd40-122d-4ce9-a543-62f76b9eebdc');\n",
              "        const dataTable =\n",
              "          await google.colab.kernel.invokeFunction('convertToInteractive',\n",
              "                                                    [key], {});\n",
              "        if (!dataTable) return;\n",
              "\n",
              "        const docLinkHtml = 'Like what you see? Visit the ' +\n",
              "          '<a target=\"_blank\" href=https://colab.research.google.com/notebooks/data_table.ipynb>data table notebook</a>'\n",
              "          + ' to learn more about interactive tables.';\n",
              "        element.innerHTML = '';\n",
              "        dataTable['output_type'] = 'display_data';\n",
              "        await google.colab.output.renderOutput(dataTable, element);\n",
              "        const docLink = document.createElement('div');\n",
              "        docLink.innerHTML = docLinkHtml;\n",
              "        element.appendChild(docLink);\n",
              "      }\n",
              "    </script>\n",
              "  </div>\n",
              "\n",
              "\n",
              "<div id=\"df-f8f07951-d69f-4a08-a081-51e2bddd8630\">\n",
              "  <button class=\"colab-df-quickchart\" onclick=\"quickchart('df-f8f07951-d69f-4a08-a081-51e2bddd8630')\"\n",
              "            title=\"Suggest charts\"\n",
              "            style=\"display:none;\">\n",
              "\n",
              "<svg xmlns=\"http://www.w3.org/2000/svg\" height=\"24px\"viewBox=\"0 0 24 24\"\n",
              "     width=\"24px\">\n",
              "    <g>\n",
              "        <path d=\"M19 3H5c-1.1 0-2 .9-2 2v14c0 1.1.9 2 2 2h14c1.1 0 2-.9 2-2V5c0-1.1-.9-2-2-2zM9 17H7v-7h2v7zm4 0h-2V7h2v10zm4 0h-2v-4h2v4z\"/>\n",
              "    </g>\n",
              "</svg>\n",
              "  </button>\n",
              "\n",
              "<style>\n",
              "  .colab-df-quickchart {\n",
              "      --bg-color: #E8F0FE;\n",
              "      --fill-color: #1967D2;\n",
              "      --hover-bg-color: #E2EBFA;\n",
              "      --hover-fill-color: #174EA6;\n",
              "      --disabled-fill-color: #AAA;\n",
              "      --disabled-bg-color: #DDD;\n",
              "  }\n",
              "\n",
              "  [theme=dark] .colab-df-quickchart {\n",
              "      --bg-color: #3B4455;\n",
              "      --fill-color: #D2E3FC;\n",
              "      --hover-bg-color: #434B5C;\n",
              "      --hover-fill-color: #FFFFFF;\n",
              "      --disabled-bg-color: #3B4455;\n",
              "      --disabled-fill-color: #666;\n",
              "  }\n",
              "\n",
              "  .colab-df-quickchart {\n",
              "    background-color: var(--bg-color);\n",
              "    border: none;\n",
              "    border-radius: 50%;\n",
              "    cursor: pointer;\n",
              "    display: none;\n",
              "    fill: var(--fill-color);\n",
              "    height: 32px;\n",
              "    padding: 0;\n",
              "    width: 32px;\n",
              "  }\n",
              "\n",
              "  .colab-df-quickchart:hover {\n",
              "    background-color: var(--hover-bg-color);\n",
              "    box-shadow: 0 1px 2px rgba(60, 64, 67, 0.3), 0 1px 3px 1px rgba(60, 64, 67, 0.15);\n",
              "    fill: var(--button-hover-fill-color);\n",
              "  }\n",
              "\n",
              "  .colab-df-quickchart-complete:disabled,\n",
              "  .colab-df-quickchart-complete:disabled:hover {\n",
              "    background-color: var(--disabled-bg-color);\n",
              "    fill: var(--disabled-fill-color);\n",
              "    box-shadow: none;\n",
              "  }\n",
              "\n",
              "  .colab-df-spinner {\n",
              "    border: 2px solid var(--fill-color);\n",
              "    border-color: transparent;\n",
              "    border-bottom-color: var(--fill-color);\n",
              "    animation:\n",
              "      spin 1s steps(1) infinite;\n",
              "  }\n",
              "\n",
              "  @keyframes spin {\n",
              "    0% {\n",
              "      border-color: transparent;\n",
              "      border-bottom-color: var(--fill-color);\n",
              "      border-left-color: var(--fill-color);\n",
              "    }\n",
              "    20% {\n",
              "      border-color: transparent;\n",
              "      border-left-color: var(--fill-color);\n",
              "      border-top-color: var(--fill-color);\n",
              "    }\n",
              "    30% {\n",
              "      border-color: transparent;\n",
              "      border-left-color: var(--fill-color);\n",
              "      border-top-color: var(--fill-color);\n",
              "      border-right-color: var(--fill-color);\n",
              "    }\n",
              "    40% {\n",
              "      border-color: transparent;\n",
              "      border-right-color: var(--fill-color);\n",
              "      border-top-color: var(--fill-color);\n",
              "    }\n",
              "    60% {\n",
              "      border-color: transparent;\n",
              "      border-right-color: var(--fill-color);\n",
              "    }\n",
              "    80% {\n",
              "      border-color: transparent;\n",
              "      border-right-color: var(--fill-color);\n",
              "      border-bottom-color: var(--fill-color);\n",
              "    }\n",
              "    90% {\n",
              "      border-color: transparent;\n",
              "      border-bottom-color: var(--fill-color);\n",
              "    }\n",
              "  }\n",
              "</style>\n",
              "\n",
              "  <script>\n",
              "    async function quickchart(key) {\n",
              "      const quickchartButtonEl =\n",
              "        document.querySelector('#' + key + ' button');\n",
              "      quickchartButtonEl.disabled = true;  // To prevent multiple clicks.\n",
              "      quickchartButtonEl.classList.add('colab-df-spinner');\n",
              "      try {\n",
              "        const charts = await google.colab.kernel.invokeFunction(\n",
              "            'suggestCharts', [key], {});\n",
              "      } catch (error) {\n",
              "        console.error('Error during call to suggestCharts:', error);\n",
              "      }\n",
              "      quickchartButtonEl.classList.remove('colab-df-spinner');\n",
              "      quickchartButtonEl.classList.add('colab-df-quickchart-complete');\n",
              "    }\n",
              "    (() => {\n",
              "      let quickchartButtonEl =\n",
              "        document.querySelector('#df-f8f07951-d69f-4a08-a081-51e2bddd8630 button');\n",
              "      quickchartButtonEl.style.display =\n",
              "        google.colab.kernel.accessAllowed ? 'block' : 'none';\n",
              "    })();\n",
              "  </script>\n",
              "</div>\n",
              "\n",
              "    </div>\n",
              "  </div>\n"
            ],
            "application/vnd.google.colaboratory.intrinsic+json": {
              "type": "dataframe",
              "variable_name": "data",
              "summary": "{\n  \"name\": \"data\",\n  \"rows\": 29999,\n  \"fields\": [\n    {\n      \"column\": \"label\",\n      \"properties\": {\n        \"dtype\": \"number\",\n        \"std\": 2,\n        \"min\": 0,\n        \"max\": 4,\n        \"num_unique_values\": 2,\n        \"samples\": [\n          4,\n          0\n        ],\n        \"semantic_type\": \"\",\n        \"description\": \"\"\n      }\n    },\n    {\n      \"column\": \"text\",\n      \"properties\": {\n        \"dtype\": \"string\",\n        \"num_unique_values\": 29849,\n        \"samples\": [\n          \"@oprah welcome to twitter! \",\n          \"http://twitpic.com/698tp  My guitars are moving out \"\n        ],\n        \"semantic_type\": \"\",\n        \"description\": \"\"\n      }\n    }\n  ]\n}"
            }
          },
          "metadata": {},
          "execution_count": 7
        }
      ],
      "source": [
        "data.head()"
      ]
    },
    {
      "cell_type": "code",
      "execution_count": null,
      "metadata": {
        "execution": {
          "iopub.execute_input": "2023-04-03T08:07:13.764971Z",
          "iopub.status.busy": "2023-04-03T08:07:13.764636Z",
          "iopub.status.idle": "2023-04-03T08:07:13.780465Z",
          "shell.execute_reply": "2023-04-03T08:07:13.779237Z",
          "shell.execute_reply.started": "2023-04-03T08:07:13.764937Z"
        },
        "id": "gPYcurWH5Dru",
        "trusted": true,
        "colab": {
          "base_uri": "https://localhost:8080/",
          "height": 206
        },
        "outputId": "b277a5a1-ec8d-468d-b04c-41a1c257c9c2"
      },
      "outputs": [
        {
          "output_type": "execute_result",
          "data": {
            "text/plain": [
              "       label                                               text\n",
              "29994      4  Im obsessed with urban outfitters. their cloth...\n",
              "29995      4            @zestylime yup! its from that segment! \n",
              "29996      4  add me on myspace  http://profile.myspace.com/...\n",
              "29997      4  @PushPlayNICK Haha Whoo HBO  Yay Going Out Nic...\n",
              "29998      4         @DianaWyatt  You are being cheeky now.lol "
            ],
            "text/html": [
              "\n",
              "  <div id=\"df-2bedcc53-02c5-47d2-bd6c-742ccdb8e3ec\" class=\"colab-df-container\">\n",
              "    <div>\n",
              "<style scoped>\n",
              "    .dataframe tbody tr th:only-of-type {\n",
              "        vertical-align: middle;\n",
              "    }\n",
              "\n",
              "    .dataframe tbody tr th {\n",
              "        vertical-align: top;\n",
              "    }\n",
              "\n",
              "    .dataframe thead th {\n",
              "        text-align: right;\n",
              "    }\n",
              "</style>\n",
              "<table border=\"1\" class=\"dataframe\">\n",
              "  <thead>\n",
              "    <tr style=\"text-align: right;\">\n",
              "      <th></th>\n",
              "      <th>label</th>\n",
              "      <th>text</th>\n",
              "    </tr>\n",
              "  </thead>\n",
              "  <tbody>\n",
              "    <tr>\n",
              "      <th>29994</th>\n",
              "      <td>4</td>\n",
              "      <td>Im obsessed with urban outfitters. their cloth...</td>\n",
              "    </tr>\n",
              "    <tr>\n",
              "      <th>29995</th>\n",
              "      <td>4</td>\n",
              "      <td>@zestylime yup! its from that segment!</td>\n",
              "    </tr>\n",
              "    <tr>\n",
              "      <th>29996</th>\n",
              "      <td>4</td>\n",
              "      <td>add me on myspace  http://profile.myspace.com/...</td>\n",
              "    </tr>\n",
              "    <tr>\n",
              "      <th>29997</th>\n",
              "      <td>4</td>\n",
              "      <td>@PushPlayNICK Haha Whoo HBO  Yay Going Out Nic...</td>\n",
              "    </tr>\n",
              "    <tr>\n",
              "      <th>29998</th>\n",
              "      <td>4</td>\n",
              "      <td>@DianaWyatt  You are being cheeky now.lol</td>\n",
              "    </tr>\n",
              "  </tbody>\n",
              "</table>\n",
              "</div>\n",
              "    <div class=\"colab-df-buttons\">\n",
              "\n",
              "  <div class=\"colab-df-container\">\n",
              "    <button class=\"colab-df-convert\" onclick=\"convertToInteractive('df-2bedcc53-02c5-47d2-bd6c-742ccdb8e3ec')\"\n",
              "            title=\"Convert this dataframe to an interactive table.\"\n",
              "            style=\"display:none;\">\n",
              "\n",
              "  <svg xmlns=\"http://www.w3.org/2000/svg\" height=\"24px\" viewBox=\"0 -960 960 960\">\n",
              "    <path d=\"M120-120v-720h720v720H120Zm60-500h600v-160H180v160Zm220 220h160v-160H400v160Zm0 220h160v-160H400v160ZM180-400h160v-160H180v160Zm440 0h160v-160H620v160ZM180-180h160v-160H180v160Zm440 0h160v-160H620v160Z\"/>\n",
              "  </svg>\n",
              "    </button>\n",
              "\n",
              "  <style>\n",
              "    .colab-df-container {\n",
              "      display:flex;\n",
              "      gap: 12px;\n",
              "    }\n",
              "\n",
              "    .colab-df-convert {\n",
              "      background-color: #E8F0FE;\n",
              "      border: none;\n",
              "      border-radius: 50%;\n",
              "      cursor: pointer;\n",
              "      display: none;\n",
              "      fill: #1967D2;\n",
              "      height: 32px;\n",
              "      padding: 0 0 0 0;\n",
              "      width: 32px;\n",
              "    }\n",
              "\n",
              "    .colab-df-convert:hover {\n",
              "      background-color: #E2EBFA;\n",
              "      box-shadow: 0px 1px 2px rgba(60, 64, 67, 0.3), 0px 1px 3px 1px rgba(60, 64, 67, 0.15);\n",
              "      fill: #174EA6;\n",
              "    }\n",
              "\n",
              "    .colab-df-buttons div {\n",
              "      margin-bottom: 4px;\n",
              "    }\n",
              "\n",
              "    [theme=dark] .colab-df-convert {\n",
              "      background-color: #3B4455;\n",
              "      fill: #D2E3FC;\n",
              "    }\n",
              "\n",
              "    [theme=dark] .colab-df-convert:hover {\n",
              "      background-color: #434B5C;\n",
              "      box-shadow: 0px 1px 3px 1px rgba(0, 0, 0, 0.15);\n",
              "      filter: drop-shadow(0px 1px 2px rgba(0, 0, 0, 0.3));\n",
              "      fill: #FFFFFF;\n",
              "    }\n",
              "  </style>\n",
              "\n",
              "    <script>\n",
              "      const buttonEl =\n",
              "        document.querySelector('#df-2bedcc53-02c5-47d2-bd6c-742ccdb8e3ec button.colab-df-convert');\n",
              "      buttonEl.style.display =\n",
              "        google.colab.kernel.accessAllowed ? 'block' : 'none';\n",
              "\n",
              "      async function convertToInteractive(key) {\n",
              "        const element = document.querySelector('#df-2bedcc53-02c5-47d2-bd6c-742ccdb8e3ec');\n",
              "        const dataTable =\n",
              "          await google.colab.kernel.invokeFunction('convertToInteractive',\n",
              "                                                    [key], {});\n",
              "        if (!dataTable) return;\n",
              "\n",
              "        const docLinkHtml = 'Like what you see? Visit the ' +\n",
              "          '<a target=\"_blank\" href=https://colab.research.google.com/notebooks/data_table.ipynb>data table notebook</a>'\n",
              "          + ' to learn more about interactive tables.';\n",
              "        element.innerHTML = '';\n",
              "        dataTable['output_type'] = 'display_data';\n",
              "        await google.colab.output.renderOutput(dataTable, element);\n",
              "        const docLink = document.createElement('div');\n",
              "        docLink.innerHTML = docLinkHtml;\n",
              "        element.appendChild(docLink);\n",
              "      }\n",
              "    </script>\n",
              "  </div>\n",
              "\n",
              "\n",
              "<div id=\"df-6c399377-218b-43d5-8adc-e877f9e8730a\">\n",
              "  <button class=\"colab-df-quickchart\" onclick=\"quickchart('df-6c399377-218b-43d5-8adc-e877f9e8730a')\"\n",
              "            title=\"Suggest charts\"\n",
              "            style=\"display:none;\">\n",
              "\n",
              "<svg xmlns=\"http://www.w3.org/2000/svg\" height=\"24px\"viewBox=\"0 0 24 24\"\n",
              "     width=\"24px\">\n",
              "    <g>\n",
              "        <path d=\"M19 3H5c-1.1 0-2 .9-2 2v14c0 1.1.9 2 2 2h14c1.1 0 2-.9 2-2V5c0-1.1-.9-2-2-2zM9 17H7v-7h2v7zm4 0h-2V7h2v10zm4 0h-2v-4h2v4z\"/>\n",
              "    </g>\n",
              "</svg>\n",
              "  </button>\n",
              "\n",
              "<style>\n",
              "  .colab-df-quickchart {\n",
              "      --bg-color: #E8F0FE;\n",
              "      --fill-color: #1967D2;\n",
              "      --hover-bg-color: #E2EBFA;\n",
              "      --hover-fill-color: #174EA6;\n",
              "      --disabled-fill-color: #AAA;\n",
              "      --disabled-bg-color: #DDD;\n",
              "  }\n",
              "\n",
              "  [theme=dark] .colab-df-quickchart {\n",
              "      --bg-color: #3B4455;\n",
              "      --fill-color: #D2E3FC;\n",
              "      --hover-bg-color: #434B5C;\n",
              "      --hover-fill-color: #FFFFFF;\n",
              "      --disabled-bg-color: #3B4455;\n",
              "      --disabled-fill-color: #666;\n",
              "  }\n",
              "\n",
              "  .colab-df-quickchart {\n",
              "    background-color: var(--bg-color);\n",
              "    border: none;\n",
              "    border-radius: 50%;\n",
              "    cursor: pointer;\n",
              "    display: none;\n",
              "    fill: var(--fill-color);\n",
              "    height: 32px;\n",
              "    padding: 0;\n",
              "    width: 32px;\n",
              "  }\n",
              "\n",
              "  .colab-df-quickchart:hover {\n",
              "    background-color: var(--hover-bg-color);\n",
              "    box-shadow: 0 1px 2px rgba(60, 64, 67, 0.3), 0 1px 3px 1px rgba(60, 64, 67, 0.15);\n",
              "    fill: var(--button-hover-fill-color);\n",
              "  }\n",
              "\n",
              "  .colab-df-quickchart-complete:disabled,\n",
              "  .colab-df-quickchart-complete:disabled:hover {\n",
              "    background-color: var(--disabled-bg-color);\n",
              "    fill: var(--disabled-fill-color);\n",
              "    box-shadow: none;\n",
              "  }\n",
              "\n",
              "  .colab-df-spinner {\n",
              "    border: 2px solid var(--fill-color);\n",
              "    border-color: transparent;\n",
              "    border-bottom-color: var(--fill-color);\n",
              "    animation:\n",
              "      spin 1s steps(1) infinite;\n",
              "  }\n",
              "\n",
              "  @keyframes spin {\n",
              "    0% {\n",
              "      border-color: transparent;\n",
              "      border-bottom-color: var(--fill-color);\n",
              "      border-left-color: var(--fill-color);\n",
              "    }\n",
              "    20% {\n",
              "      border-color: transparent;\n",
              "      border-left-color: var(--fill-color);\n",
              "      border-top-color: var(--fill-color);\n",
              "    }\n",
              "    30% {\n",
              "      border-color: transparent;\n",
              "      border-left-color: var(--fill-color);\n",
              "      border-top-color: var(--fill-color);\n",
              "      border-right-color: var(--fill-color);\n",
              "    }\n",
              "    40% {\n",
              "      border-color: transparent;\n",
              "      border-right-color: var(--fill-color);\n",
              "      border-top-color: var(--fill-color);\n",
              "    }\n",
              "    60% {\n",
              "      border-color: transparent;\n",
              "      border-right-color: var(--fill-color);\n",
              "    }\n",
              "    80% {\n",
              "      border-color: transparent;\n",
              "      border-right-color: var(--fill-color);\n",
              "      border-bottom-color: var(--fill-color);\n",
              "    }\n",
              "    90% {\n",
              "      border-color: transparent;\n",
              "      border-bottom-color: var(--fill-color);\n",
              "    }\n",
              "  }\n",
              "</style>\n",
              "\n",
              "  <script>\n",
              "    async function quickchart(key) {\n",
              "      const quickchartButtonEl =\n",
              "        document.querySelector('#' + key + ' button');\n",
              "      quickchartButtonEl.disabled = true;  // To prevent multiple clicks.\n",
              "      quickchartButtonEl.classList.add('colab-df-spinner');\n",
              "      try {\n",
              "        const charts = await google.colab.kernel.invokeFunction(\n",
              "            'suggestCharts', [key], {});\n",
              "      } catch (error) {\n",
              "        console.error('Error during call to suggestCharts:', error);\n",
              "      }\n",
              "      quickchartButtonEl.classList.remove('colab-df-spinner');\n",
              "      quickchartButtonEl.classList.add('colab-df-quickchart-complete');\n",
              "    }\n",
              "    (() => {\n",
              "      let quickchartButtonEl =\n",
              "        document.querySelector('#df-6c399377-218b-43d5-8adc-e877f9e8730a button');\n",
              "      quickchartButtonEl.style.display =\n",
              "        google.colab.kernel.accessAllowed ? 'block' : 'none';\n",
              "    })();\n",
              "  </script>\n",
              "</div>\n",
              "\n",
              "    </div>\n",
              "  </div>\n"
            ],
            "application/vnd.google.colaboratory.intrinsic+json": {
              "type": "dataframe",
              "summary": "{\n  \"name\": \"data\",\n  \"rows\": 5,\n  \"fields\": [\n    {\n      \"column\": \"label\",\n      \"properties\": {\n        \"dtype\": \"number\",\n        \"std\": 0,\n        \"min\": 4,\n        \"max\": 4,\n        \"num_unique_values\": 1,\n        \"samples\": [\n          4\n        ],\n        \"semantic_type\": \"\",\n        \"description\": \"\"\n      }\n    },\n    {\n      \"column\": \"text\",\n      \"properties\": {\n        \"dtype\": \"string\",\n        \"num_unique_values\": 5,\n        \"samples\": [\n          \"@zestylime yup! its from that segment! \"\n        ],\n        \"semantic_type\": \"\",\n        \"description\": \"\"\n      }\n    }\n  ]\n}"
            }
          },
          "metadata": {},
          "execution_count": 8
        }
      ],
      "source": [
        "data.tail()"
      ]
    },
    {
      "cell_type": "markdown",
      "metadata": {
        "id": "kCuo9Xfz5Drv"
      },
      "source": [
        "#### Coloumns/features in data"
      ]
    },
    {
      "cell_type": "code",
      "execution_count": null,
      "metadata": {
        "execution": {
          "iopub.execute_input": "2023-04-03T08:07:13.784702Z",
          "iopub.status.busy": "2023-04-03T08:07:13.784219Z",
          "iopub.status.idle": "2023-04-03T08:07:13.792982Z",
          "shell.execute_reply": "2023-04-03T08:07:13.791936Z",
          "shell.execute_reply.started": "2023-04-03T08:07:13.784653Z"
        },
        "id": "NFTSmedT5Drv",
        "trusted": true,
        "colab": {
          "base_uri": "https://localhost:8080/"
        },
        "outputId": "50a05c3c-9da2-4e0f-c801-221b09147a03"
      },
      "outputs": [
        {
          "output_type": "execute_result",
          "data": {
            "text/plain": [
              "Index(['label', 'text'], dtype='object')"
            ]
          },
          "metadata": {},
          "execution_count": 9
        }
      ],
      "source": [
        "data.columns"
      ]
    },
    {
      "cell_type": "markdown",
      "metadata": {
        "id": "2NQscyNp5Drv"
      },
      "source": [
        "#### Length of data"
      ]
    },
    {
      "cell_type": "code",
      "execution_count": null,
      "metadata": {
        "execution": {
          "iopub.execute_input": "2023-04-03T08:07:13.797052Z",
          "iopub.status.busy": "2023-04-03T08:07:13.796678Z",
          "iopub.status.idle": "2023-04-03T08:07:13.803593Z",
          "shell.execute_reply": "2023-04-03T08:07:13.802494Z",
          "shell.execute_reply.started": "2023-04-03T08:07:13.797017Z"
        },
        "id": "LAI0RvyC5Drv",
        "trusted": true,
        "colab": {
          "base_uri": "https://localhost:8080/"
        },
        "outputId": "70dac33a-5257-45c5-d81c-d1e6b7fd67e5"
      },
      "outputs": [
        {
          "output_type": "stream",
          "name": "stdout",
          "text": [
            "lenght of data is 29999\n"
          ]
        }
      ],
      "source": [
        "print('lenght of data is', len(data))"
      ]
    },
    {
      "cell_type": "markdown",
      "metadata": {
        "id": "ODG2GRbR5Drv"
      },
      "source": [
        "#### Shape of data"
      ]
    },
    {
      "cell_type": "code",
      "execution_count": null,
      "metadata": {
        "execution": {
          "iopub.execute_input": "2023-04-03T08:07:13.805803Z",
          "iopub.status.busy": "2023-04-03T08:07:13.805374Z",
          "iopub.status.idle": "2023-04-03T08:07:13.814158Z",
          "shell.execute_reply": "2023-04-03T08:07:13.813064Z",
          "shell.execute_reply.started": "2023-04-03T08:07:13.805768Z"
        },
        "id": "_-DLOyLO5Drv",
        "trusted": true,
        "colab": {
          "base_uri": "https://localhost:8080/"
        },
        "outputId": "e5b60fba-abd0-4f4a-f28c-0cde21d5d7cd"
      },
      "outputs": [
        {
          "output_type": "execute_result",
          "data": {
            "text/plain": [
              "(29999, 2)"
            ]
          },
          "metadata": {},
          "execution_count": 11
        }
      ],
      "source": [
        "data.shape"
      ]
    },
    {
      "cell_type": "markdown",
      "metadata": {
        "id": "J9wrelDK5Drv"
      },
      "source": [
        "#### Data information"
      ]
    },
    {
      "cell_type": "code",
      "execution_count": null,
      "metadata": {
        "execution": {
          "iopub.execute_input": "2023-04-03T08:07:13.815585Z",
          "iopub.status.busy": "2023-04-03T08:07:13.815243Z",
          "iopub.status.idle": "2023-04-03T08:07:14.392341Z",
          "shell.execute_reply": "2023-04-03T08:07:14.391313Z",
          "shell.execute_reply.started": "2023-04-03T08:07:13.815553Z"
        },
        "id": "nRVT7Zv75Drv",
        "trusted": true,
        "colab": {
          "base_uri": "https://localhost:8080/"
        },
        "outputId": "576a1bb3-93ee-4391-af33-5408d32e82c1"
      },
      "outputs": [
        {
          "output_type": "stream",
          "name": "stdout",
          "text": [
            "<class 'pandas.core.frame.DataFrame'>\n",
            "RangeIndex: 29999 entries, 0 to 29998\n",
            "Data columns (total 2 columns):\n",
            " #   Column  Non-Null Count  Dtype \n",
            "---  ------  --------------  ----- \n",
            " 0   label   29999 non-null  int64 \n",
            " 1   text    29999 non-null  object\n",
            "dtypes: int64(1), object(1)\n",
            "memory usage: 468.9+ KB\n"
          ]
        }
      ],
      "source": [
        "data.info()"
      ]
    },
    {
      "cell_type": "markdown",
      "metadata": {
        "id": "XWVIvha-5Drw"
      },
      "source": [
        "#### Data types of all coloumns"
      ]
    },
    {
      "cell_type": "code",
      "execution_count": null,
      "metadata": {
        "execution": {
          "iopub.execute_input": "2023-04-03T08:07:14.393912Z",
          "iopub.status.busy": "2023-04-03T08:07:14.393621Z",
          "iopub.status.idle": "2023-04-03T08:07:14.402041Z",
          "shell.execute_reply": "2023-04-03T08:07:14.400877Z",
          "shell.execute_reply.started": "2023-04-03T08:07:14.393884Z"
        },
        "id": "0M6oC1Qk5Drw",
        "trusted": true,
        "colab": {
          "base_uri": "https://localhost:8080/"
        },
        "outputId": "27f867dc-7b3b-4228-f0df-fd2a6e7ad620"
      },
      "outputs": [
        {
          "output_type": "execute_result",
          "data": {
            "text/plain": [
              "label     int64\n",
              "text     object\n",
              "dtype: object"
            ]
          },
          "metadata": {},
          "execution_count": 13
        }
      ],
      "source": [
        "data.dtypes"
      ]
    },
    {
      "cell_type": "markdown",
      "metadata": {
        "id": "bkWFqVat5Drw"
      },
      "source": [
        "#### Checking Null values"
      ]
    },
    {
      "cell_type": "code",
      "execution_count": null,
      "metadata": {
        "execution": {
          "iopub.execute_input": "2023-04-03T08:07:14.404144Z",
          "iopub.status.busy": "2023-04-03T08:07:14.403805Z",
          "iopub.status.idle": "2023-04-03T08:07:14.972744Z",
          "shell.execute_reply": "2023-04-03T08:07:14.971602Z",
          "shell.execute_reply.started": "2023-04-03T08:07:14.40411Z"
        },
        "id": "Aa4pQGpq5Drw",
        "scrolled": true,
        "trusted": true,
        "colab": {
          "base_uri": "https://localhost:8080/"
        },
        "outputId": "29f28efe-2770-4b46-ce4d-e2d7ef4dadbd"
      },
      "outputs": [
        {
          "output_type": "execute_result",
          "data": {
            "text/plain": [
              "0"
            ]
          },
          "metadata": {},
          "execution_count": 14
        }
      ],
      "source": [
        "np.sum(data.isnull().any(axis=1))"
      ]
    },
    {
      "cell_type": "markdown",
      "metadata": {
        "id": "C5IhspI55Drx"
      },
      "source": [
        "#### Rows and columns in the dataset"
      ]
    },
    {
      "cell_type": "code",
      "execution_count": null,
      "metadata": {
        "execution": {
          "iopub.execute_input": "2023-04-03T08:07:14.974909Z",
          "iopub.status.busy": "2023-04-03T08:07:14.974572Z",
          "iopub.status.idle": "2023-04-03T08:07:14.981879Z",
          "shell.execute_reply": "2023-04-03T08:07:14.980766Z",
          "shell.execute_reply.started": "2023-04-03T08:07:14.974875Z"
        },
        "id": "lg6nb53Y5Drx",
        "trusted": true,
        "colab": {
          "base_uri": "https://localhost:8080/"
        },
        "outputId": "065d96f2-cc29-4c0f-d570-efbba63fd040"
      },
      "outputs": [
        {
          "output_type": "stream",
          "name": "stdout",
          "text": [
            "Count of columns in the data is:   2\n"
          ]
        }
      ],
      "source": [
        "print('Count of columns in the data is:  ', len(data.columns))"
      ]
    },
    {
      "cell_type": "code",
      "execution_count": null,
      "metadata": {
        "execution": {
          "iopub.execute_input": "2023-04-03T08:07:14.983888Z",
          "iopub.status.busy": "2023-04-03T08:07:14.983366Z",
          "iopub.status.idle": "2023-04-03T08:07:14.993506Z",
          "shell.execute_reply": "2023-04-03T08:07:14.992527Z",
          "shell.execute_reply.started": "2023-04-03T08:07:14.983832Z"
        },
        "id": "na7ADfOY5Drx",
        "trusted": true,
        "colab": {
          "base_uri": "https://localhost:8080/"
        },
        "outputId": "43ff8293-688a-43da-a483-e04cfccbf4d2"
      },
      "outputs": [
        {
          "output_type": "stream",
          "name": "stdout",
          "text": [
            "Count of rows in the data is:   29999\n"
          ]
        }
      ],
      "source": [
        "print('Count of rows in the data is:  ', len(data))"
      ]
    },
    {
      "cell_type": "markdown",
      "metadata": {
        "id": "c9CDQctX5Drx",
        "papermill": {
          "duration": 0.065466,
          "end_time": "2020-11-30T07:38:51.578836",
          "exception": false,
          "start_time": "2020-11-30T07:38:51.51337",
          "status": "completed"
        },
        "tags": []
      },
      "source": [
        "<div class=\"alert alert-block alert-danger\">  \n",
        "<h1><center><strong>Data Preparation </strong></center></h1>\n",
        "\n",
        " <ul style=\"list-style-type:circle;\">\n",
        "     <h6>\n",
        "         <li>Selection of interested coloumns</li>\n",
        "         <br>\n",
        "          <li>Assinged 1 to class 4</li>\n",
        "         <br>\n",
        "          <li>Took one fourth data so we can run on our machine easily</li>\n",
        "         <br>\n",
        "          <li>Combined positive and negative tweets</li>\n",
        "         <br>\n",
        "    <li>We will convert the text in lower case for the further working on tweet text. </li>\n",
        "         <br>\n",
        "         <li>We will clean and remove the stop words(of, a, in etc) from statement because these words are not useuseful to support the labels of sentiments  data</li>\n",
        "<br>\n",
        "         <li>We will clean and remove the punctuations because these are the noise in the data and not meaningfull</li>\n",
        "         <br>\n",
        "         <li>We will clean and remove repeating characters in the words</li>\n",
        "         <br>\n",
        "         <li>We will clean and remove emails</li>\n",
        "         <br>\n",
        "         <li>We will clean and remove URL's</li>\n",
        "         <br>\n",
        "         <li>We will clean and remove the numbers in the data</li>\n",
        "         <br>\n",
        "         <li>We will apply tokenization(to separate the sentence into words)</li>\n",
        "         <br>\n",
        "         <li>We will apply stemming and lemmatization on the text. The concept of both is following:</li>\n",
        "         <img src=\"htts://lh3.googleusercontent.com/3wumK8lGLhKpD2Fhbu35I7wWf6OSpF_erX9T7FX9WQCE5_HBKMJpKOZNximlzlTG5882QUWcL-_lFLJd0-RIo4uHDaO7cK8aEnw2Tm2-5xPwjYS3ls6fYefeGAVGb1WUGrXafJrC\">\n",
        "          <br>\n",
        "         <li>We will apply stemming on the tweet text.</li>\n",
        "         <br>\n",
        "         <li>We will apply lemmatization on the tweet text.</li>\n",
        "         <br>\n",
        "         <li>Separated input feature and labels</li>\n",
        "         <br>\n",
        "         <li>Extracted features from input feature</li>\n",
        "         <br>\n",
        "         <li>Separated the 70% data for training and 30% data for testing</li>\n",
        "</h6>\n",
        "</ul>\n",
        "   \n",
        "        \n",
        "</div>"
      ]
    },
    {
      "cell_type": "markdown",
      "metadata": {
        "id": "VXd6WTo15Dry"
      },
      "source": [
        "#### Selecting the text and label coloumn"
      ]
    },
    {
      "cell_type": "code",
      "execution_count": null,
      "metadata": {
        "execution": {
          "iopub.execute_input": "2023-04-03T08:07:14.996112Z",
          "iopub.status.busy": "2023-04-03T08:07:14.995782Z",
          "iopub.status.idle": "2023-04-03T08:07:15.040576Z",
          "shell.execute_reply": "2023-04-03T08:07:15.039479Z",
          "shell.execute_reply.started": "2023-04-03T08:07:14.99608Z"
        },
        "id": "LzUpAk575Dry",
        "trusted": true
      },
      "outputs": [],
      "source": [
        "data=data[['label','text']]"
      ]
    },
    {
      "cell_type": "markdown",
      "metadata": {
        "id": "lppCDowm5Dry"
      },
      "source": [
        "#### Assigning 1 to Positive sentment 4"
      ]
    },
    {
      "cell_type": "code",
      "execution_count": null,
      "metadata": {
        "execution": {
          "iopub.execute_input": "2023-04-03T08:07:15.042427Z",
          "iopub.status.busy": "2023-04-03T08:07:15.041931Z",
          "iopub.status.idle": "2023-04-03T08:07:15.066103Z",
          "shell.execute_reply": "2023-04-03T08:07:15.065109Z",
          "shell.execute_reply.started": "2023-04-03T08:07:15.04239Z"
        },
        "id": "_zjNmq4h5Dry",
        "trusted": true
      },
      "outputs": [],
      "source": [
        "data['label'][data['label']==4]=1"
      ]
    },
    {
      "cell_type": "markdown",
      "metadata": {
        "id": "Ys5fmWP-5Dry"
      },
      "source": [
        "#### Separating positive and negative tweets"
      ]
    },
    {
      "cell_type": "code",
      "execution_count": null,
      "metadata": {
        "execution": {
          "iopub.execute_input": "2023-04-03T08:07:15.067842Z",
          "iopub.status.busy": "2023-04-03T08:07:15.067486Z",
          "iopub.status.idle": "2023-04-03T08:07:15.168447Z",
          "shell.execute_reply": "2023-04-03T08:07:15.167498Z",
          "shell.execute_reply.started": "2023-04-03T08:07:15.067809Z"
        },
        "id": "LCpEhW3f5Dry",
        "trusted": true
      },
      "outputs": [],
      "source": [
        "data_pos = data[data['label'] == 1]\n",
        "data_neg = data[data['label'] == 0]"
      ]
    },
    {
      "cell_type": "markdown",
      "metadata": {
        "id": "3pj7FoBO5Dry"
      },
      "source": [
        "#### taking one fourth data so we can run on our machine easily"
      ]
    },
    {
      "cell_type": "code",
      "execution_count": null,
      "metadata": {
        "execution": {
          "iopub.execute_input": "2023-04-03T08:07:15.169896Z",
          "iopub.status.busy": "2023-04-03T08:07:15.169595Z",
          "iopub.status.idle": "2023-04-03T08:07:15.175035Z",
          "shell.execute_reply": "2023-04-03T08:07:15.174154Z",
          "shell.execute_reply.started": "2023-04-03T08:07:15.169867Z"
        },
        "id": "LP6GHLp85Dr4",
        "trusted": true
      },
      "outputs": [],
      "source": [
        "data_pos = data_pos.iloc[:int(40000)]\n",
        "data_neg = data_neg.iloc[:int(40000)]"
      ]
    },
    {
      "cell_type": "markdown",
      "metadata": {
        "id": "FNEaF0Wi5Dr4"
      },
      "source": [
        "#### Combining positive and negative tweets"
      ]
    },
    {
      "cell_type": "code",
      "execution_count": null,
      "metadata": {
        "execution": {
          "iopub.execute_input": "2023-04-03T08:07:15.176637Z",
          "iopub.status.busy": "2023-04-03T08:07:15.176355Z",
          "iopub.status.idle": "2023-04-03T08:07:15.206969Z",
          "shell.execute_reply": "2023-04-03T08:07:15.205999Z",
          "shell.execute_reply.started": "2023-04-03T08:07:15.176609Z"
        },
        "id": "ZoJbRuuP5Dr4",
        "trusted": true
      },
      "outputs": [],
      "source": [
        "data = pd.concat([data_pos, data_neg])"
      ]
    },
    {
      "cell_type": "markdown",
      "metadata": {
        "id": "iy2yWhsl5Dr4"
      },
      "source": [
        "#### Making statement text in lower case"
      ]
    },
    {
      "cell_type": "code",
      "execution_count": null,
      "metadata": {
        "execution": {
          "iopub.execute_input": "2023-04-03T08:07:15.208755Z",
          "iopub.status.busy": "2023-04-03T08:07:15.208452Z",
          "iopub.status.idle": "2023-04-03T08:07:15.243452Z",
          "shell.execute_reply": "2023-04-03T08:07:15.242469Z",
          "shell.execute_reply.started": "2023-04-03T08:07:15.208726Z"
        },
        "id": "o1ehXy8k5Dr5",
        "trusted": true
      },
      "outputs": [],
      "source": [
        "data['text']=data['text'].str.lower()"
      ]
    },
    {
      "cell_type": "code",
      "execution_count": null,
      "metadata": {
        "execution": {
          "iopub.execute_input": "2023-04-03T08:07:15.245653Z",
          "iopub.status.busy": "2023-04-03T08:07:15.245207Z",
          "iopub.status.idle": "2023-04-03T08:07:15.256487Z",
          "shell.execute_reply": "2023-04-03T08:07:15.255624Z",
          "shell.execute_reply.started": "2023-04-03T08:07:15.245604Z"
        },
        "id": "mei9ZnYg5Dr5",
        "trusted": true,
        "colab": {
          "base_uri": "https://localhost:8080/"
        },
        "outputId": "ee9cdaf5-66cc-4f29-9022-639d2b0f09ac"
      },
      "outputs": [
        {
          "output_type": "execute_result",
          "data": {
            "text/plain": [
              "14994    went to the zoo amphitheatre with @amyellacrea...\n",
              "14995                 @__missb 21!!! wtf?! i'm only on 17 \n",
              "14996    going to bed. so flippen tired. nick's in ny. ...\n",
              "14997    so far, not a fan of this time zone, i feel so...\n",
              "14998    @tnikolaisen for sure! i'm leaving tomorrow at...\n",
              "Name: text, dtype: object"
            ]
          },
          "metadata": {},
          "execution_count": 23
        }
      ],
      "source": [
        "data['text'].tail()"
      ]
    },
    {
      "cell_type": "markdown",
      "metadata": {
        "id": "F_I3XcfW5Dr5"
      },
      "source": [
        "#### Cleaning and removing Stop words of english"
      ]
    },
    {
      "cell_type": "code",
      "execution_count": null,
      "metadata": {
        "execution": {
          "iopub.execute_input": "2023-04-03T08:07:15.258676Z",
          "iopub.status.busy": "2023-04-03T08:07:15.258042Z",
          "iopub.status.idle": "2023-04-03T08:07:15.270584Z",
          "shell.execute_reply": "2023-04-03T08:07:15.269641Z",
          "shell.execute_reply.started": "2023-04-03T08:07:15.25864Z"
        },
        "id": "3XY3vgdI5Dr5",
        "trusted": true,
        "colab": {
          "base_uri": "https://localhost:8080/"
        },
        "outputId": "c91e25c4-c270-4c0c-ed6c-0a1ae6b143f0"
      },
      "outputs": [
        {
          "output_type": "stream",
          "name": "stderr",
          "text": [
            "[nltk_data] Downloading package stopwords to /root/nltk_data...\n",
            "[nltk_data]   Unzipping corpora/stopwords.zip.\n"
          ]
        },
        {
          "output_type": "execute_result",
          "data": {
            "text/plain": [
              "True"
            ]
          },
          "metadata": {},
          "execution_count": 24
        }
      ],
      "source": [
        "# stopwords_list = stopwords.words('english')\n",
        "import nltk\n",
        "nltk.download('stopwords')"
      ]
    },
    {
      "cell_type": "code",
      "execution_count": null,
      "metadata": {
        "execution": {
          "iopub.execute_input": "2023-04-03T08:07:15.273049Z",
          "iopub.status.busy": "2023-04-03T08:07:15.272091Z",
          "iopub.status.idle": "2023-04-03T08:07:15.28871Z",
          "shell.execute_reply": "2023-04-03T08:07:15.287079Z",
          "shell.execute_reply.started": "2023-04-03T08:07:15.272988Z"
        },
        "id": "MwYH3PCY5Dr5",
        "trusted": true,
        "colab": {
          "base_uri": "https://localhost:8080/",
          "height": 123
        },
        "outputId": "c986d549-ef92-4210-d2f1-46e33b1d03d9"
      },
      "outputs": [
        {
          "output_type": "execute_result",
          "data": {
            "text/plain": [
              "\"i, me, my, myself, we, our, ours, ourselves, you, you're, you've, you'll, you'd, your, yours, yourself, yourselves, he, him, his, himself, she, she's, her, hers, herself, it, it's, its, itself, they, them, their, theirs, themselves, what, which, who, whom, this, that, that'll, these, those, am, is, are, was, were, be, been, being, have, has, had, having, do, does, did, doing, a, an, the, and, but, if, or, because, as, until, while, of, at, by, for, with, about, against, between, into, through, during, before, after, above, below, to, from, up, down, in, out, on, off, over, under, again, further, then, once, here, there, when, where, why, how, all, any, both, each, few, more, most, other, some, such, no, nor, not, only, own, same, so, than, too, very, s, t, can, will, just, don, don't, should, should've, now, d, ll, m, o, re, ve, y, ain, aren, aren't, couldn, couldn't, didn, didn't, doesn, doesn't, hadn, hadn't, hasn, hasn't, haven, haven't, isn, isn't, ma, mightn, mightn't, mustn, mustn't, needn, needn't, shan, shan't, shouldn, shouldn't, wasn, wasn't, weren, weren't, won, won't, wouldn, wouldn't\""
            ],
            "application/vnd.google.colaboratory.intrinsic+json": {
              "type": "string"
            }
          },
          "metadata": {},
          "execution_count": 25
        }
      ],
      "source": [
        "from nltk.corpus import stopwords\n",
        "\", \".join(stopwords.words('english'))"
      ]
    },
    {
      "cell_type": "markdown",
      "metadata": {
        "id": "XMb5HVm-5Dr5"
      },
      "source": [
        "#### Cleaning and removing the above stop words list from the tweet text"
      ]
    },
    {
      "cell_type": "code",
      "execution_count": null,
      "metadata": {
        "execution": {
          "iopub.execute_input": "2023-04-03T08:07:15.291649Z",
          "iopub.status.busy": "2023-04-03T08:07:15.290786Z",
          "iopub.status.idle": "2023-04-03T08:07:15.453946Z",
          "shell.execute_reply": "2023-04-03T08:07:15.452724Z",
          "shell.execute_reply.started": "2023-04-03T08:07:15.2916Z"
        },
        "id": "fk8oEOJO5Dr6",
        "trusted": true,
        "colab": {
          "base_uri": "https://localhost:8080/"
        },
        "outputId": "3efe3bf7-e63e-430f-e3e1-57fb7a2c42dc"
      },
      "outputs": [
        {
          "output_type": "execute_result",
          "data": {
            "text/plain": [
              "14999                    @peerug puffing dragon again, ey?\n",
              "15000      got twitter 4 ipod touch yaaaaaay!!!!!!!!!!!!!!\n",
              "15001    @pixieguts really???? why? call superman, save...\n",
              "15002    excited two sleeps wear stupid goggles bed any...\n",
              "15003                                        @rln49 funny!\n",
              "Name: text, dtype: object"
            ]
          },
          "metadata": {},
          "execution_count": 26
        }
      ],
      "source": [
        "STOPWORDS = set(stopwords.words('english'))\n",
        "def cleaning_stopwords(text):\n",
        "    return \" \".join([word for word in str(text).split() if word not in STOPWORDS])\n",
        "data['text'] = data['text'].apply(lambda text: cleaning_stopwords(text))\n",
        "data['text'].head()"
      ]
    },
    {
      "cell_type": "markdown",
      "metadata": {
        "id": "MpBepsi25Dr6"
      },
      "source": [
        "#### Cleaning and removing punctuations"
      ]
    },
    {
      "cell_type": "code",
      "execution_count": null,
      "metadata": {
        "execution": {
          "iopub.execute_input": "2023-04-03T08:07:15.456685Z",
          "iopub.status.busy": "2023-04-03T08:07:15.456165Z",
          "iopub.status.idle": "2023-04-03T08:07:15.463299Z",
          "shell.execute_reply": "2023-04-03T08:07:15.462154Z",
          "shell.execute_reply.started": "2023-04-03T08:07:15.456636Z"
        },
        "id": "oK7fI2M25Dr6",
        "trusted": true
      },
      "outputs": [],
      "source": [
        "english_punctuations = string.punctuation\n",
        "punctuations_list = english_punctuations\n",
        "def cleaning_punctuations(text):\n",
        "    translator = str.maketrans('', '', punctuations_list)\n",
        "    return text.translate(translator)"
      ]
    },
    {
      "cell_type": "code",
      "execution_count": null,
      "metadata": {
        "execution": {
          "iopub.execute_input": "2023-04-03T08:07:15.46592Z",
          "iopub.status.busy": "2023-04-03T08:07:15.465156Z",
          "iopub.status.idle": "2023-04-03T08:07:15.663982Z",
          "shell.execute_reply": "2023-04-03T08:07:15.662963Z",
          "shell.execute_reply.started": "2023-04-03T08:07:15.465874Z"
        },
        "id": "XQiEhx1c5Dr6",
        "trusted": true,
        "colab": {
          "base_uri": "https://localhost:8080/"
        },
        "outputId": "b3a7d69a-7381-4cf1-9e94-bbeb87a785f1"
      },
      "outputs": [
        {
          "output_type": "execute_result",
          "data": {
            "text/plain": [
              "14994    went zoo amphitheatre amyellacreative got see ...\n",
              "14995                                   missb 21 wtf im 17\n",
              "14996    going bed flippen tired nicks ny miss youu  lo...\n",
              "14997    far fan time zone feel disconnected twitter tw...\n",
              "14998    tnikolaisen sure im leaving tomorrow 7am till ...\n",
              "Name: text, dtype: object"
            ]
          },
          "metadata": {},
          "execution_count": 28
        }
      ],
      "source": [
        "data['text']= data['text'].apply(lambda x: cleaning_punctuations(x))\n",
        "data['text'].tail()"
      ]
    },
    {
      "cell_type": "markdown",
      "metadata": {
        "id": "QYFQrj9T5Dr6"
      },
      "source": [
        "#### Cleaning and removing repeating characters"
      ]
    },
    {
      "cell_type": "code",
      "execution_count": null,
      "metadata": {
        "execution": {
          "iopub.execute_input": "2023-04-03T08:07:15.66603Z",
          "iopub.status.busy": "2023-04-03T08:07:15.665703Z",
          "iopub.status.idle": "2023-04-03T08:07:15.670391Z",
          "shell.execute_reply": "2023-04-03T08:07:15.669342Z",
          "shell.execute_reply.started": "2023-04-03T08:07:15.665998Z"
        },
        "id": "fXCPZy-P5Dr7",
        "trusted": true
      },
      "outputs": [],
      "source": [
        "def cleaning_repeating_char(text):\n",
        "    return re.sub(r'(.)\\1+', r'\\1', text)"
      ]
    },
    {
      "cell_type": "code",
      "execution_count": null,
      "metadata": {
        "execution": {
          "iopub.execute_input": "2023-04-03T08:07:15.672418Z",
          "iopub.status.busy": "2023-04-03T08:07:15.67189Z",
          "iopub.status.idle": "2023-04-03T08:07:16.044609Z",
          "shell.execute_reply": "2023-04-03T08:07:16.043726Z",
          "shell.execute_reply.started": "2023-04-03T08:07:15.672365Z"
        },
        "id": "oHJehuX25Dr7",
        "trusted": true,
        "colab": {
          "base_uri": "https://localhost:8080/"
        },
        "outputId": "d52e792f-3234-4f3d-9cde-3c9ef1b269b4"
      },
      "outputs": [
        {
          "output_type": "execute_result",
          "data": {
            "text/plain": [
              "14994    went zo amphitheatre amyelacreative got se shi...\n",
              "14995                                    misb 21 wtf im 17\n",
              "14996    going bed flipen tired nicks ny mis you lol ni...\n",
              "14997    far fan time zone fel disconected twiter tweps...\n",
              "14998    tnikolaisen sure im leaving tomorow 7am til mo...\n",
              "Name: text, dtype: object"
            ]
          },
          "metadata": {},
          "execution_count": 30
        }
      ],
      "source": [
        "data['text'] = data['text'].apply(lambda x: cleaning_repeating_char(x))\n",
        "data['text'].tail()"
      ]
    },
    {
      "cell_type": "markdown",
      "metadata": {
        "id": "TMKPWpSl5Dr7"
      },
      "source": [
        "#### Cleaning and removing email"
      ]
    },
    {
      "cell_type": "code",
      "execution_count": null,
      "metadata": {
        "execution": {
          "iopub.execute_input": "2023-04-03T08:07:16.04642Z",
          "iopub.status.busy": "2023-04-03T08:07:16.045876Z",
          "iopub.status.idle": "2023-04-03T08:07:16.051278Z",
          "shell.execute_reply": "2023-04-03T08:07:16.050171Z",
          "shell.execute_reply.started": "2023-04-03T08:07:16.046362Z"
        },
        "id": "w4BwOfpj5Dr7",
        "trusted": true
      },
      "outputs": [],
      "source": [
        "def cleaning_email(data):\n",
        "    return re.sub('@[^\\s]+', ' ', data)"
      ]
    },
    {
      "cell_type": "code",
      "execution_count": null,
      "metadata": {
        "execution": {
          "iopub.execute_input": "2023-04-03T08:07:16.053347Z",
          "iopub.status.busy": "2023-04-03T08:07:16.052987Z",
          "iopub.status.idle": "2023-04-03T08:07:16.128762Z",
          "shell.execute_reply": "2023-04-03T08:07:16.127849Z",
          "shell.execute_reply.started": "2023-04-03T08:07:16.05329Z"
        },
        "id": "JwSS65I55Dr7",
        "trusted": true,
        "colab": {
          "base_uri": "https://localhost:8080/"
        },
        "outputId": "51d539c2-524d-48a7-eba4-6b3fe2426dd9"
      },
      "outputs": [
        {
          "output_type": "execute_result",
          "data": {
            "text/plain": [
              "14994    went zo amphitheatre amyelacreative got se shi...\n",
              "14995                                    misb 21 wtf im 17\n",
              "14996    going bed flipen tired nicks ny mis you lol ni...\n",
              "14997    far fan time zone fel disconected twiter tweps...\n",
              "14998    tnikolaisen sure im leaving tomorow 7am til mo...\n",
              "Name: text, dtype: object"
            ]
          },
          "metadata": {},
          "execution_count": 32
        }
      ],
      "source": [
        "data['text']= data['text'].apply(lambda x: cleaning_email(x))\n",
        "data['text'].tail()"
      ]
    },
    {
      "cell_type": "markdown",
      "metadata": {
        "id": "FfvuuPub5Dr8"
      },
      "source": [
        "#### Cleaning and removing URL's"
      ]
    },
    {
      "cell_type": "code",
      "execution_count": null,
      "metadata": {
        "execution": {
          "iopub.execute_input": "2023-04-03T08:07:16.130626Z",
          "iopub.status.busy": "2023-04-03T08:07:16.130077Z",
          "iopub.status.idle": "2023-04-03T08:07:16.135607Z",
          "shell.execute_reply": "2023-04-03T08:07:16.134287Z",
          "shell.execute_reply.started": "2023-04-03T08:07:16.13057Z"
        },
        "id": "lTnR5u5T5Dr8",
        "trusted": true
      },
      "outputs": [],
      "source": [
        "def cleaning_URLs(data):\n",
        "    return re.sub('((www\\.[^\\s]+)|(https?://[^\\s]+))',' ',data)"
      ]
    },
    {
      "cell_type": "code",
      "execution_count": null,
      "metadata": {
        "execution": {
          "iopub.execute_input": "2023-04-03T08:07:16.137889Z",
          "iopub.status.busy": "2023-04-03T08:07:16.137554Z",
          "iopub.status.idle": "2023-04-03T08:07:16.317718Z",
          "shell.execute_reply": "2023-04-03T08:07:16.316858Z",
          "shell.execute_reply.started": "2023-04-03T08:07:16.137856Z"
        },
        "id": "l305qkE55Dr8",
        "trusted": true,
        "colab": {
          "base_uri": "https://localhost:8080/"
        },
        "outputId": "0d20b74c-b5e3-486e-ccb4-ab8ea32b721f"
      },
      "outputs": [
        {
          "output_type": "execute_result",
          "data": {
            "text/plain": [
              "14994    went zo amphitheatre amyelacreative got se shi...\n",
              "14995                                    misb 21 wtf im 17\n",
              "14996    going bed flipen tired nicks ny mis you lol ni...\n",
              "14997    far fan time zone fel disconected twiter tweps...\n",
              "14998    tnikolaisen sure im leaving tomorow 7am til mo...\n",
              "Name: text, dtype: object"
            ]
          },
          "metadata": {},
          "execution_count": 34
        }
      ],
      "source": [
        "data['text'] = data['text'].apply(lambda x: cleaning_URLs(x))\n",
        "data['text'].tail()"
      ]
    },
    {
      "cell_type": "markdown",
      "metadata": {
        "id": "c3lPwzz95Dr8"
      },
      "source": [
        "#### Cleaning and removing Numeric numbers"
      ]
    },
    {
      "cell_type": "code",
      "execution_count": null,
      "metadata": {
        "execution": {
          "iopub.execute_input": "2023-04-03T08:07:16.319441Z",
          "iopub.status.busy": "2023-04-03T08:07:16.31895Z",
          "iopub.status.idle": "2023-04-03T08:07:16.323331Z",
          "shell.execute_reply": "2023-04-03T08:07:16.322487Z",
          "shell.execute_reply.started": "2023-04-03T08:07:16.319386Z"
        },
        "id": "J75pI8DO5Dr8",
        "trusted": true
      },
      "outputs": [],
      "source": [
        "def cleaning_numbers(data):\n",
        "    return re.sub('[0-9]+', '', data)"
      ]
    },
    {
      "cell_type": "code",
      "execution_count": null,
      "metadata": {
        "execution": {
          "iopub.execute_input": "2023-04-03T08:07:16.32994Z",
          "iopub.status.busy": "2023-04-03T08:07:16.329364Z",
          "iopub.status.idle": "2023-04-03T08:07:16.452657Z",
          "shell.execute_reply": "2023-04-03T08:07:16.451414Z",
          "shell.execute_reply.started": "2023-04-03T08:07:16.329742Z"
        },
        "id": "y8uHOrXq5Dr8",
        "trusted": true,
        "colab": {
          "base_uri": "https://localhost:8080/"
        },
        "outputId": "95ac0760-a6ad-4daf-d1d5-fe9500d739cb"
      },
      "outputs": [
        {
          "output_type": "execute_result",
          "data": {
            "text/plain": [
              "14994    went zo amphitheatre amyelacreative got se shi...\n",
              "14995                                        misb  wtf im \n",
              "14996    going bed flipen tired nicks ny mis you lol ni...\n",
              "14997    far fan time zone fel disconected twiter tweps...\n",
              "14998    tnikolaisen sure im leaving tomorow am til mon...\n",
              "Name: text, dtype: object"
            ]
          },
          "metadata": {},
          "execution_count": 36
        }
      ],
      "source": [
        "data['text'] = data['text'].apply(lambda x: cleaning_numbers(x))\n",
        "data['text'].tail()"
      ]
    },
    {
      "cell_type": "markdown",
      "metadata": {
        "id": "hYfq2Tjt5Dr9"
      },
      "source": [
        "#### Getting tokenization of tweet text"
      ]
    },
    {
      "cell_type": "code",
      "execution_count": null,
      "metadata": {
        "execution": {
          "iopub.execute_input": "2023-04-03T08:07:16.454479Z",
          "iopub.status.busy": "2023-04-03T08:07:16.454097Z",
          "iopub.status.idle": "2023-04-03T08:07:16.597642Z",
          "shell.execute_reply": "2023-04-03T08:07:16.59664Z",
          "shell.execute_reply.started": "2023-04-03T08:07:16.454445Z"
        },
        "id": "993k2ZcA5Dr9",
        "trusted": true
      },
      "outputs": [],
      "source": [
        "tokenizer = RegexpTokenizer(r'\\w+')\n",
        "data['text'] = data['text'].apply(tokenizer.tokenize)"
      ]
    },
    {
      "cell_type": "code",
      "execution_count": null,
      "metadata": {
        "execution": {
          "iopub.execute_input": "2023-04-03T08:07:16.600837Z",
          "iopub.status.busy": "2023-04-03T08:07:16.600376Z",
          "iopub.status.idle": "2023-04-03T08:07:16.614218Z",
          "shell.execute_reply": "2023-04-03T08:07:16.612684Z",
          "shell.execute_reply.started": "2023-04-03T08:07:16.600789Z"
        },
        "id": "y5bJJguE5Dr9",
        "trusted": true,
        "colab": {
          "base_uri": "https://localhost:8080/"
        },
        "outputId": "d8911b3d-abf2-4797-c767-1a37eaf60536"
      },
      "outputs": [
        {
          "output_type": "execute_result",
          "data": {
            "text/plain": [
              "14999                   [perug, pufing, dragon, again, ey]\n",
              "15000                      [got, twiter, ipod, touch, yay]\n",
              "15001    [pixieguts, realy, why, cal, superman, save, y...\n",
              "15002    [excited, two, sleps, wear, stupid, gogles, be...\n",
              "15003                                          [rln, funy]\n",
              "Name: text, dtype: object"
            ]
          },
          "metadata": {},
          "execution_count": 38
        }
      ],
      "source": [
        "data['text'].head()"
      ]
    },
    {
      "cell_type": "markdown",
      "metadata": {
        "id": "9a6Ewqno5Dr9"
      },
      "source": [
        "#### Applying Stemming"
      ]
    },
    {
      "cell_type": "code",
      "execution_count": null,
      "metadata": {
        "execution": {
          "iopub.execute_input": "2023-04-03T08:07:16.615994Z",
          "iopub.status.busy": "2023-04-03T08:07:16.615591Z",
          "iopub.status.idle": "2023-04-03T08:07:24.781361Z",
          "shell.execute_reply": "2023-04-03T08:07:24.780017Z",
          "shell.execute_reply.started": "2023-04-03T08:07:16.615961Z"
        },
        "id": "xluCzSIu5Dr9",
        "trusted": true
      },
      "outputs": [],
      "source": [
        "st = nltk.PorterStemmer()\n",
        "def stemming_on_text(data):\n",
        "    text = [st.stem(word) for word in data]\n",
        "    return data\n",
        "\n",
        "data['text']= data['text'].apply(lambda x: stemming_on_text(x))"
      ]
    },
    {
      "cell_type": "code",
      "execution_count": null,
      "metadata": {
        "execution": {
          "iopub.execute_input": "2023-04-03T08:07:24.783363Z",
          "iopub.status.busy": "2023-04-03T08:07:24.783012Z",
          "iopub.status.idle": "2023-04-03T08:07:24.792087Z",
          "shell.execute_reply": "2023-04-03T08:07:24.790904Z",
          "shell.execute_reply.started": "2023-04-03T08:07:24.783331Z"
        },
        "id": "sUn7LcEK5Dr-",
        "trusted": true,
        "colab": {
          "base_uri": "https://localhost:8080/"
        },
        "outputId": "2ed6cfff-029e-485d-e3a2-bd82989252d3"
      },
      "outputs": [
        {
          "output_type": "execute_result",
          "data": {
            "text/plain": [
              "14999                   [perug, pufing, dragon, again, ey]\n",
              "15000                      [got, twiter, ipod, touch, yay]\n",
              "15001    [pixieguts, realy, why, cal, superman, save, y...\n",
              "15002    [excited, two, sleps, wear, stupid, gogles, be...\n",
              "15003                                          [rln, funy]\n",
              "Name: text, dtype: object"
            ]
          },
          "metadata": {},
          "execution_count": 40
        }
      ],
      "source": [
        "data['text'].head()"
      ]
    },
    {
      "cell_type": "markdown",
      "metadata": {
        "id": "VSbvf1x85Dr-"
      },
      "source": [
        "#### Applying Lemmatizer"
      ]
    },
    {
      "cell_type": "code",
      "execution_count": null,
      "metadata": {
        "execution": {
          "iopub.execute_input": "2023-04-03T08:07:24.793598Z",
          "iopub.status.busy": "2023-04-03T08:07:24.793309Z",
          "iopub.status.idle": "2023-04-03T08:07:27.893919Z",
          "shell.execute_reply": "2023-04-03T08:07:27.892678Z",
          "shell.execute_reply.started": "2023-04-03T08:07:24.79357Z"
        },
        "id": "glRgCRAq5Dr-",
        "trusted": true,
        "colab": {
          "base_uri": "https://localhost:8080/"
        },
        "outputId": "f93a77ad-e3a1-42a9-bd46-9e995ec96ea3"
      },
      "outputs": [
        {
          "output_type": "stream",
          "name": "stderr",
          "text": [
            "[nltk_data] Downloading package wordnet to /root/nltk_data...\n"
          ]
        }
      ],
      "source": [
        "import nltk\n",
        "nltk.download('wordnet')\n",
        "\n",
        "lm = nltk.WordNetLemmatizer()\n",
        "def lemmatizer_on_text(data):\n",
        "    text = [lm.lemmatize(word) for word in data]\n",
        "    return data\n",
        "\n",
        "data['text'] = data['text'].apply(lambda x: lemmatizer_on_text(x))"
      ]
    },
    {
      "cell_type": "code",
      "execution_count": null,
      "metadata": {
        "execution": {
          "iopub.execute_input": "2023-04-03T08:07:27.895832Z",
          "iopub.status.busy": "2023-04-03T08:07:27.895414Z",
          "iopub.status.idle": "2023-04-03T08:07:27.90412Z",
          "shell.execute_reply": "2023-04-03T08:07:27.903292Z",
          "shell.execute_reply.started": "2023-04-03T08:07:27.895799Z"
        },
        "id": "7LSWhQ805Dr-",
        "trusted": true,
        "colab": {
          "base_uri": "https://localhost:8080/"
        },
        "outputId": "a929e470-d47f-42d6-faa1-db5bb260151e"
      },
      "outputs": [
        {
          "output_type": "execute_result",
          "data": {
            "text/plain": [
              "14999                   [perug, pufing, dragon, again, ey]\n",
              "15000                      [got, twiter, ipod, touch, yay]\n",
              "15001    [pixieguts, realy, why, cal, superman, save, y...\n",
              "15002    [excited, two, sleps, wear, stupid, gogles, be...\n",
              "15003                                          [rln, funy]\n",
              "Name: text, dtype: object"
            ]
          },
          "metadata": {},
          "execution_count": 42
        }
      ],
      "source": [
        "data['text'].head()"
      ]
    },
    {
      "cell_type": "markdown",
      "metadata": {
        "id": "3bkcr61p5Dr-"
      },
      "source": [
        "<b> <h3> Labels : </h3></b>  labels are the targets like in this project senitments of the tweets are labels."
      ]
    },
    {
      "cell_type": "markdown",
      "metadata": {
        "id": "D7yCetJ85Dr-"
      },
      "source": [
        "<b> <h3> Inputs : </h3></b>  Inputs are the data that we feed into machine learning like in this project tweets texts are the inputs."
      ]
    },
    {
      "cell_type": "markdown",
      "metadata": {
        "id": "BsJ7jgKK5Dr_"
      },
      "source": [
        "<b> <h3> Training Data </h3></b>  We use training data when we train the models. We feed train data to machine learning and deep learning models so that model can learn from the data."
      ]
    },
    {
      "cell_type": "markdown",
      "metadata": {
        "id": "9n-n2Nrp5Dr_"
      },
      "source": [
        "<b> <h3> Validation Data </h3></b>  We use validation data while training the model. We use this data to evalaute the performance that how the model perform on training time."
      ]
    },
    {
      "cell_type": "markdown",
      "metadata": {
        "id": "1uTKjil35Dr_"
      },
      "source": [
        "<b> <h3> Testing Data </h3></b>  We use testing data after training the model. We use this data to evalaute the performance that how the model perform after training. So in this way first we get predictions from the trained model without giving the labels and then we compare the true labels with predictions and get the performance of th model.."
      ]
    },
    {
      "cell_type": "markdown",
      "metadata": {
        "id": "Hq_4KM0m5Dr_"
      },
      "source": [
        "####  Separating input feature and label"
      ]
    },
    {
      "cell_type": "code",
      "execution_count": null,
      "metadata": {
        "execution": {
          "iopub.execute_input": "2023-04-03T08:07:27.90614Z",
          "iopub.status.busy": "2023-04-03T08:07:27.905517Z",
          "iopub.status.idle": "2023-04-03T08:07:27.913936Z",
          "shell.execute_reply": "2023-04-03T08:07:27.912979Z",
          "shell.execute_reply.started": "2023-04-03T08:07:27.906108Z"
        },
        "id": "odLyBn1F5Dr_",
        "trusted": true
      },
      "outputs": [],
      "source": [
        "X=data.text\n",
        "y=data.label"
      ]
    },
    {
      "cell_type": "markdown",
      "metadata": {
        "id": "RTo649l35DsA"
      },
      "source": [
        "#### Preparing the input features for training\n",
        "- We converting the text words into arrays form.\n",
        "- Maximum 500 features/words selected for training. These 500 words will be selected on the importance that will distinguish between the positive tweets and negative tweets."
      ]
    },
    {
      "cell_type": "code",
      "execution_count": null,
      "metadata": {
        "execution": {
          "iopub.execute_input": "2023-04-03T08:07:27.915589Z",
          "iopub.status.busy": "2023-04-03T08:07:27.915064Z",
          "iopub.status.idle": "2023-04-03T08:07:28.795463Z",
          "shell.execute_reply": "2023-04-03T08:07:28.794447Z",
          "shell.execute_reply.started": "2023-04-03T08:07:27.915552Z"
        },
        "id": "plIFObh4jYJV",
        "trusted": true
      },
      "outputs": [],
      "source": [
        "max_len = 500\n",
        "tok = Tokenizer(num_words=200)\n",
        "tok.fit_on_texts(X)\n",
        "sequences = tok.texts_to_sequences(X)\n",
        "sequences_matrix = sequence.pad_sequences(sequences,maxlen=max_len)"
      ]
    },
    {
      "cell_type": "markdown",
      "metadata": {
        "id": "b3PyOF0L5DsA"
      },
      "source": [
        "As we can see that there total 40000 tweets and the number words/features are 500."
      ]
    },
    {
      "cell_type": "code",
      "execution_count": null,
      "metadata": {
        "execution": {
          "iopub.execute_input": "2023-04-03T08:07:28.797125Z",
          "iopub.status.busy": "2023-04-03T08:07:28.796659Z",
          "iopub.status.idle": "2023-04-03T08:07:28.802844Z",
          "shell.execute_reply": "2023-04-03T08:07:28.801436Z",
          "shell.execute_reply.started": "2023-04-03T08:07:28.797093Z"
        },
        "id": "QaJUmZF05DsA",
        "trusted": true,
        "colab": {
          "base_uri": "https://localhost:8080/"
        },
        "outputId": "4655b16e-f2b1-4f6e-b88c-4f314cf74070"
      },
      "outputs": [
        {
          "output_type": "execute_result",
          "data": {
            "text/plain": [
              "(29999, 500)"
            ]
          },
          "metadata": {},
          "execution_count": 45
        }
      ],
      "source": [
        "sequences_matrix.shape"
      ]
    },
    {
      "cell_type": "markdown",
      "metadata": {
        "id": "sMYY6_NQ5DsA"
      },
      "source": [
        "#### Separating the 70% data for training data and 30% for testing data"
      ]
    },
    {
      "cell_type": "markdown",
      "metadata": {
        "id": "BjQR8ok_5DsB"
      },
      "source": [
        "As we prepared all the tweets, now we are separating/splitting the tweets into training data and testing data.\n",
        "- 70% tweets will be used in the training\n",
        "- 30% tweets will be used to test the performance of the model."
      ]
    },
    {
      "cell_type": "code",
      "execution_count": null,
      "metadata": {
        "execution": {
          "iopub.execute_input": "2023-04-03T08:07:28.804947Z",
          "iopub.status.busy": "2023-04-03T08:07:28.804538Z",
          "iopub.status.idle": "2023-04-03T08:07:28.851833Z",
          "shell.execute_reply": "2023-04-03T08:07:28.850793Z",
          "shell.execute_reply.started": "2023-04-03T08:07:28.8049Z"
        },
        "id": "oOlkTTg4oRqR",
        "trusted": true
      },
      "outputs": [],
      "source": [
        "X_train, X_test, Y_train, Y_test = train_test_split(sequences_matrix, y, test_size=0.3, random_state=2)"
      ]
    },
    {
      "cell_type": "markdown",
      "metadata": {
        "id": "1-H-yHNz5DsB",
        "papermill": {
          "duration": 0.065466,
          "end_time": "2020-11-30T07:38:51.578836",
          "exception": false,
          "start_time": "2020-11-30T07:38:51.51337",
          "status": "completed"
        },
        "tags": []
      },
      "source": [
        "<div class=\"alert alert-block alert-danger\">  \n",
        "<h2><center><strong>Implementing Tensorflow based model for training </strong></center></h2>   \n",
        "</div>"
      ]
    },
    {
      "cell_type": "code",
      "execution_count": null,
      "metadata": {
        "execution": {
          "iopub.execute_input": "2023-04-03T08:07:28.853569Z",
          "iopub.status.busy": "2023-04-03T08:07:28.853275Z",
          "iopub.status.idle": "2023-04-03T08:07:28.860928Z",
          "shell.execute_reply": "2023-04-03T08:07:28.859834Z",
          "shell.execute_reply.started": "2023-04-03T08:07:28.853539Z"
        },
        "id": "zndahl1T5DsB",
        "trusted": true
      },
      "outputs": [],
      "source": [
        "def tensorflow_based_model(): #Defined tensorflow_based_model function for training tenforflow based model\n",
        "    inputs = Input(name='inputs',shape=[max_len])#step1\n",
        "    layer = Embedding(2000,50,input_length=max_len)(inputs) #step2\n",
        "    layer = LSTM(64)(layer) #step3\n",
        "    layer = Dense(256,name='FC1')(layer) #step4\n",
        "    layer = Activation('relu')(layer) # step5\n",
        "    layer = Dropout(0.5)(layer) # step6\n",
        "    layer = Dense(1,name='out_layer')(layer) #step4 again but this time its giving only one output as because we need to classify the tweet as positive or negative\n",
        "    layer = Activation('sigmoid')(layer) #step5 but this time activation function is sigmoid for only one output.\n",
        "    model = Model(inputs=inputs,outputs=layer) #here we are getting the final output value in the model for classification\n",
        "    return model #function returning the value when we call it"
      ]
    },
    {
      "cell_type": "markdown",
      "metadata": {
        "id": "wVhNGVOX5DsC"
      },
      "source": [
        "# Model compilation"
      ]
    },
    {
      "cell_type": "markdown",
      "metadata": {
        "id": "mO9ncBfF5DsC"
      },
      "source": [
        "- First we are calling the model\n",
        "- We are using 2 classes so we set \"binary_crossentropy\" and if we use more than two classes then we use \"categorical_crossentropy\"\n",
        "- Optimizer is a function that used to change the features of neural network such as learning rate (how the model learn with features) in order to reduce the losses. So the learning rate of neural network to reduce the losses is defined by optimizer.\n",
        "- We are setting metrics=accuracy because we are going to caluclate the percentage of correct predictions over all predictions on the validation set"
      ]
    },
    {
      "cell_type": "code",
      "execution_count": null,
      "metadata": {
        "execution": {
          "iopub.execute_input": "2023-04-03T08:07:28.862755Z",
          "iopub.status.busy": "2023-04-03T08:07:28.862457Z",
          "iopub.status.idle": "2023-04-03T08:07:29.197013Z",
          "shell.execute_reply": "2023-04-03T08:07:29.196099Z",
          "shell.execute_reply.started": "2023-04-03T08:07:28.862726Z"
        },
        "id": "qppgP_ym5DsC",
        "trusted": true
      },
      "outputs": [],
      "source": [
        "model = tensorflow_based_model()\n",
        "model.compile(loss='binary_crossentropy',optimizer=RMSprop(),metrics=['accuracy'])"
      ]
    },
    {
      "cell_type": "code",
      "execution_count": null,
      "metadata": {
        "execution": {
          "iopub.execute_input": "2023-04-03T08:07:29.198483Z",
          "iopub.status.busy": "2023-04-03T08:07:29.198154Z",
          "iopub.status.idle": "2023-04-03T08:21:48.133043Z",
          "shell.execute_reply": "2023-04-03T08:21:48.131766Z",
          "shell.execute_reply.started": "2023-04-03T08:07:29.198452Z"
        },
        "id": "kVWx3rmK5DsC",
        "trusted": true,
        "colab": {
          "base_uri": "https://localhost:8080/"
        },
        "outputId": "f84d2b11-64cf-4012-ac66-cb7a7d9e5d48"
      },
      "outputs": [
        {
          "output_type": "stream",
          "name": "stdout",
          "text": [
            "Epoch 1/120\n",
            "158/158 [==============================] - 11s 41ms/step - loss: 0.6618 - accuracy: 0.5970 - val_loss: 0.5897 - val_accuracy: 0.6729\n",
            "Epoch 2/120\n",
            "158/158 [==============================] - 4s 26ms/step - loss: 0.5836 - accuracy: 0.6861 - val_loss: 0.5753 - val_accuracy: 0.6814\n",
            "Epoch 3/120\n",
            "158/158 [==============================] - 4s 22ms/step - loss: 0.5776 - accuracy: 0.6903 - val_loss: 0.5735 - val_accuracy: 0.6819\n",
            "Epoch 4/120\n",
            "158/158 [==============================] - 3s 20ms/step - loss: 0.5757 - accuracy: 0.6914 - val_loss: 0.5726 - val_accuracy: 0.6871\n",
            "Epoch 5/120\n",
            "158/158 [==============================] - 3s 21ms/step - loss: 0.5733 - accuracy: 0.6931 - val_loss: 0.5740 - val_accuracy: 0.6890\n",
            "Epoch 6/120\n",
            "158/158 [==============================] - 4s 23ms/step - loss: 0.5734 - accuracy: 0.6918 - val_loss: 0.5730 - val_accuracy: 0.6905\n",
            "Epoch 7/120\n",
            "158/158 [==============================] - 3s 20ms/step - loss: 0.5750 - accuracy: 0.6917 - val_loss: 0.5730 - val_accuracy: 0.6862\n",
            "Epoch 8/120\n",
            "158/158 [==============================] - 3s 20ms/step - loss: 0.5680 - accuracy: 0.6952 - val_loss: 0.5760 - val_accuracy: 0.6862\n",
            "Epoch 9/120\n",
            "158/158 [==============================] - 3s 21ms/step - loss: 0.5943 - accuracy: 0.6891 - val_loss: 0.5740 - val_accuracy: 0.6843\n",
            "Epoch 10/120\n",
            "158/158 [==============================] - 3s 22ms/step - loss: 0.5658 - accuracy: 0.6986 - val_loss: 0.5806 - val_accuracy: 0.6852\n",
            "Epoch 11/120\n",
            "158/158 [==============================] - 3s 20ms/step - loss: 0.5653 - accuracy: 0.6971 - val_loss: 0.5826 - val_accuracy: 0.6905\n",
            "Epoch 12/120\n",
            "158/158 [==============================] - 3s 21ms/step - loss: 0.5643 - accuracy: 0.6980 - val_loss: 0.5767 - val_accuracy: 0.6895\n",
            "Epoch 13/120\n",
            "158/158 [==============================] - 3s 22ms/step - loss: 0.5973 - accuracy: 0.6719 - val_loss: 0.5793 - val_accuracy: 0.6819\n",
            "Epoch 14/120\n",
            "158/158 [==============================] - 3s 22ms/step - loss: 0.5693 - accuracy: 0.6943 - val_loss: 0.5755 - val_accuracy: 0.6924\n",
            "Epoch 15/120\n",
            "158/158 [==============================] - 3s 19ms/step - loss: 0.5615 - accuracy: 0.7011 - val_loss: 0.5795 - val_accuracy: 0.6862\n",
            "Epoch 16/120\n",
            "158/158 [==============================] - 3s 20ms/step - loss: 0.5607 - accuracy: 0.6993 - val_loss: 0.5892 - val_accuracy: 0.6829\n",
            "Epoch 17/120\n",
            "158/158 [==============================] - 3s 22ms/step - loss: 0.5620 - accuracy: 0.6984 - val_loss: 0.5772 - val_accuracy: 0.6862\n",
            "Epoch 18/120\n",
            "158/158 [==============================] - 3s 21ms/step - loss: 0.5580 - accuracy: 0.7006 - val_loss: 0.5805 - val_accuracy: 0.6862\n",
            "Epoch 19/120\n",
            "158/158 [==============================] - 3s 20ms/step - loss: 0.5625 - accuracy: 0.6954 - val_loss: 0.5799 - val_accuracy: 0.6857\n",
            "Epoch 20/120\n",
            "158/158 [==============================] - 3s 19ms/step - loss: 0.5590 - accuracy: 0.6993 - val_loss: 0.5810 - val_accuracy: 0.6900\n",
            "Epoch 21/120\n",
            "158/158 [==============================] - 3s 21ms/step - loss: 0.5559 - accuracy: 0.7037 - val_loss: 0.5848 - val_accuracy: 0.6900\n",
            "Epoch 22/120\n",
            "158/158 [==============================] - 3s 21ms/step - loss: 0.5608 - accuracy: 0.6996 - val_loss: 0.5836 - val_accuracy: 0.6710\n",
            "Epoch 23/120\n",
            "158/158 [==============================] - 3s 19ms/step - loss: 0.5539 - accuracy: 0.7026 - val_loss: 0.5847 - val_accuracy: 0.6881\n",
            "Epoch 24/120\n",
            "158/158 [==============================] - 3s 19ms/step - loss: 0.5537 - accuracy: 0.7049 - val_loss: 0.5890 - val_accuracy: 0.6881\n",
            "Epoch 25/120\n",
            "158/158 [==============================] - 3s 22ms/step - loss: 0.5531 - accuracy: 0.7018 - val_loss: 0.5865 - val_accuracy: 0.6848\n",
            "Epoch 26/120\n",
            "158/158 [==============================] - 3s 21ms/step - loss: 0.5541 - accuracy: 0.6999 - val_loss: 0.5894 - val_accuracy: 0.6852\n",
            "Epoch 27/120\n",
            "158/158 [==============================] - 3s 19ms/step - loss: 0.5509 - accuracy: 0.7029 - val_loss: 0.5896 - val_accuracy: 0.6862\n",
            "Epoch 28/120\n",
            "158/158 [==============================] - 3s 19ms/step - loss: 0.5511 - accuracy: 0.7042 - val_loss: 0.5886 - val_accuracy: 0.6814\n",
            "Epoch 29/120\n",
            "158/158 [==============================] - 3s 20ms/step - loss: 0.5499 - accuracy: 0.7040 - val_loss: 0.5926 - val_accuracy: 0.6795\n",
            "Epoch 30/120\n",
            "158/158 [==============================] - 3s 22ms/step - loss: 0.5493 - accuracy: 0.7054 - val_loss: 0.5991 - val_accuracy: 0.6876\n",
            "Epoch 31/120\n",
            "158/158 [==============================] - 3s 19ms/step - loss: 0.5487 - accuracy: 0.7063 - val_loss: 0.5905 - val_accuracy: 0.6805\n",
            "Epoch 32/120\n",
            "158/158 [==============================] - 3s 19ms/step - loss: 0.5466 - accuracy: 0.7070 - val_loss: 0.5909 - val_accuracy: 0.6824\n",
            "Epoch 33/120\n",
            "158/158 [==============================] - 3s 21ms/step - loss: 0.5458 - accuracy: 0.7061 - val_loss: 0.5968 - val_accuracy: 0.6781\n",
            "Epoch 34/120\n",
            "158/158 [==============================] - 4s 22ms/step - loss: 0.5457 - accuracy: 0.7040 - val_loss: 0.5988 - val_accuracy: 0.6857\n",
            "Epoch 35/120\n",
            "158/158 [==============================] - 3s 20ms/step - loss: 0.5436 - accuracy: 0.7068 - val_loss: 0.5962 - val_accuracy: 0.6852\n",
            "Epoch 36/120\n",
            "158/158 [==============================] - 3s 20ms/step - loss: 0.5431 - accuracy: 0.7071 - val_loss: 0.6049 - val_accuracy: 0.6829\n",
            "Epoch 37/120\n",
            "158/158 [==============================] - 3s 21ms/step - loss: 0.5424 - accuracy: 0.7078 - val_loss: 0.6016 - val_accuracy: 0.6795\n",
            "Epoch 38/120\n",
            "158/158 [==============================] - 3s 22ms/step - loss: 0.5417 - accuracy: 0.7092 - val_loss: 0.6000 - val_accuracy: 0.6805\n",
            "Epoch 39/120\n",
            "158/158 [==============================] - 3s 19ms/step - loss: 0.5412 - accuracy: 0.7111 - val_loss: 0.6069 - val_accuracy: 0.6805\n",
            "Epoch 40/120\n",
            "158/158 [==============================] - 3s 19ms/step - loss: 0.5397 - accuracy: 0.7124 - val_loss: 0.6081 - val_accuracy: 0.6852\n",
            "Epoch 41/120\n",
            "158/158 [==============================] - 3s 21ms/step - loss: 0.5371 - accuracy: 0.7114 - val_loss: 0.6127 - val_accuracy: 0.6838\n",
            "Epoch 42/120\n",
            "158/158 [==============================] - 3s 22ms/step - loss: 0.5355 - accuracy: 0.7138 - val_loss: 0.6123 - val_accuracy: 0.6805\n",
            "Epoch 43/120\n",
            "158/158 [==============================] - 3s 20ms/step - loss: 0.5352 - accuracy: 0.7157 - val_loss: 0.6105 - val_accuracy: 0.6786\n",
            "Epoch 44/120\n",
            "158/158 [==============================] - 3s 19ms/step - loss: 0.5345 - accuracy: 0.7153 - val_loss: 0.6120 - val_accuracy: 0.6752\n",
            "Epoch 45/120\n",
            "158/158 [==============================] - 4s 23ms/step - loss: 0.5325 - accuracy: 0.7132 - val_loss: 0.6235 - val_accuracy: 0.6781\n",
            "Epoch 46/120\n",
            "158/158 [==============================] - 3s 22ms/step - loss: 0.5311 - accuracy: 0.7180 - val_loss: 0.6110 - val_accuracy: 0.6781\n",
            "Epoch 47/120\n",
            "158/158 [==============================] - 3s 19ms/step - loss: 0.5286 - accuracy: 0.7170 - val_loss: 0.6128 - val_accuracy: 0.6757\n",
            "Epoch 48/120\n",
            "158/158 [==============================] - 3s 19ms/step - loss: 0.5289 - accuracy: 0.7189 - val_loss: 0.6237 - val_accuracy: 0.6786\n",
            "Epoch 49/120\n",
            "158/158 [==============================] - 4s 22ms/step - loss: 0.5265 - accuracy: 0.7206 - val_loss: 0.6173 - val_accuracy: 0.6748\n",
            "Epoch 50/120\n",
            "158/158 [==============================] - 3s 21ms/step - loss: 0.5242 - accuracy: 0.7223 - val_loss: 0.6373 - val_accuracy: 0.6748\n",
            "Epoch 51/120\n",
            "158/158 [==============================] - 3s 19ms/step - loss: 0.5302 - accuracy: 0.7173 - val_loss: 0.6282 - val_accuracy: 0.6767\n",
            "Epoch 52/120\n",
            "158/158 [==============================] - 3s 19ms/step - loss: 0.5214 - accuracy: 0.7244 - val_loss: 0.6278 - val_accuracy: 0.6762\n",
            "Epoch 53/120\n",
            "158/158 [==============================] - 3s 22ms/step - loss: 0.5208 - accuracy: 0.7217 - val_loss: 0.6223 - val_accuracy: 0.6686\n",
            "Epoch 54/120\n",
            "158/158 [==============================] - 3s 21ms/step - loss: 0.5186 - accuracy: 0.7247 - val_loss: 0.6401 - val_accuracy: 0.6743\n",
            "Epoch 55/120\n",
            "158/158 [==============================] - 3s 19ms/step - loss: 0.5169 - accuracy: 0.7235 - val_loss: 0.6387 - val_accuracy: 0.6748\n",
            "Epoch 56/120\n",
            "158/158 [==============================] - 3s 19ms/step - loss: 0.5152 - accuracy: 0.7263 - val_loss: 0.6302 - val_accuracy: 0.6657\n",
            "Epoch 57/120\n",
            "158/158 [==============================] - 4s 23ms/step - loss: 0.5135 - accuracy: 0.7295 - val_loss: 0.6492 - val_accuracy: 0.6733\n",
            "Epoch 58/120\n",
            "158/158 [==============================] - 3s 20ms/step - loss: 0.5110 - accuracy: 0.7306 - val_loss: 0.6594 - val_accuracy: 0.6705\n",
            "Epoch 59/120\n",
            "158/158 [==============================] - 3s 19ms/step - loss: 0.5082 - accuracy: 0.7325 - val_loss: 0.6634 - val_accuracy: 0.6781\n",
            "Epoch 60/120\n",
            "158/158 [==============================] - 3s 20ms/step - loss: 0.5077 - accuracy: 0.7324 - val_loss: 0.6625 - val_accuracy: 0.6710\n",
            "Epoch 61/120\n",
            "158/158 [==============================] - 4s 23ms/step - loss: 0.5034 - accuracy: 0.7336 - val_loss: 0.6490 - val_accuracy: 0.6767\n",
            "Epoch 62/120\n",
            "158/158 [==============================] - 3s 19ms/step - loss: 0.5028 - accuracy: 0.7376 - val_loss: 0.6435 - val_accuracy: 0.6676\n",
            "Epoch 63/120\n",
            "158/158 [==============================] - 3s 19ms/step - loss: 0.4987 - accuracy: 0.7369 - val_loss: 0.6588 - val_accuracy: 0.6752\n",
            "Epoch 64/120\n",
            "158/158 [==============================] - 3s 20ms/step - loss: 0.4972 - accuracy: 0.7373 - val_loss: 0.6728 - val_accuracy: 0.6686\n",
            "Epoch 65/120\n",
            "158/158 [==============================] - 4s 23ms/step - loss: 0.4935 - accuracy: 0.7405 - val_loss: 0.6762 - val_accuracy: 0.6705\n",
            "Epoch 66/120\n",
            "158/158 [==============================] - 3s 19ms/step - loss: 0.4905 - accuracy: 0.7429 - val_loss: 0.6934 - val_accuracy: 0.6767\n",
            "Epoch 67/120\n",
            "158/158 [==============================] - 3s 19ms/step - loss: 0.4885 - accuracy: 0.7435 - val_loss: 0.7102 - val_accuracy: 0.6824\n",
            "Epoch 68/120\n",
            "158/158 [==============================] - 3s 19ms/step - loss: 0.5178 - accuracy: 0.7286 - val_loss: 0.6708 - val_accuracy: 0.6781\n",
            "Epoch 69/120\n",
            "158/158 [==============================] - 4s 22ms/step - loss: 0.4877 - accuracy: 0.7451 - val_loss: 0.7246 - val_accuracy: 0.6676\n",
            "Epoch 70/120\n",
            "158/158 [==============================] - 3s 19ms/step - loss: 0.4822 - accuracy: 0.7471 - val_loss: 0.7177 - val_accuracy: 0.6600\n",
            "Epoch 71/120\n",
            "158/158 [==============================] - 3s 20ms/step - loss: 0.4790 - accuracy: 0.7477 - val_loss: 0.7157 - val_accuracy: 0.6567\n",
            "Epoch 72/120\n",
            "158/158 [==============================] - 3s 19ms/step - loss: 0.4770 - accuracy: 0.7486 - val_loss: 0.7415 - val_accuracy: 0.6700\n",
            "Epoch 73/120\n",
            "158/158 [==============================] - 4s 22ms/step - loss: 0.4743 - accuracy: 0.7504 - val_loss: 0.7363 - val_accuracy: 0.6619\n",
            "Epoch 74/120\n",
            "158/158 [==============================] - 3s 19ms/step - loss: 0.4699 - accuracy: 0.7521 - val_loss: 0.7519 - val_accuracy: 0.6514\n",
            "Epoch 75/120\n",
            "158/158 [==============================] - 3s 19ms/step - loss: 0.4665 - accuracy: 0.7546 - val_loss: 0.7414 - val_accuracy: 0.6562\n",
            "Epoch 76/120\n",
            "158/158 [==============================] - 3s 19ms/step - loss: 0.4638 - accuracy: 0.7566 - val_loss: 0.7642 - val_accuracy: 0.6538\n",
            "Epoch 77/120\n",
            "158/158 [==============================] - 4s 22ms/step - loss: 0.4613 - accuracy: 0.7594 - val_loss: 0.7942 - val_accuracy: 0.6581\n",
            "Epoch 78/120\n",
            "158/158 [==============================] - 3s 19ms/step - loss: 0.4573 - accuracy: 0.7590 - val_loss: 0.7893 - val_accuracy: 0.6633\n",
            "Epoch 79/120\n",
            "158/158 [==============================] - 3s 20ms/step - loss: 0.4534 - accuracy: 0.7606 - val_loss: 0.8294 - val_accuracy: 0.6590\n",
            "Epoch 80/120\n",
            "158/158 [==============================] - 3s 20ms/step - loss: 0.4517 - accuracy: 0.7633 - val_loss: 0.8200 - val_accuracy: 0.6414\n",
            "Epoch 81/120\n",
            "158/158 [==============================] - 4s 23ms/step - loss: 0.4480 - accuracy: 0.7673 - val_loss: 0.8146 - val_accuracy: 0.6581\n",
            "Epoch 82/120\n",
            "158/158 [==============================] - 3s 19ms/step - loss: 0.4443 - accuracy: 0.7697 - val_loss: 0.8234 - val_accuracy: 0.6567\n",
            "Epoch 83/120\n",
            "158/158 [==============================] - 3s 20ms/step - loss: 0.4417 - accuracy: 0.7688 - val_loss: 0.8549 - val_accuracy: 0.6624\n",
            "Epoch 84/120\n",
            "158/158 [==============================] - 3s 19ms/step - loss: 0.4378 - accuracy: 0.7715 - val_loss: 0.8621 - val_accuracy: 0.6595\n",
            "Epoch 85/120\n",
            "158/158 [==============================] - 4s 24ms/step - loss: 0.4336 - accuracy: 0.7717 - val_loss: 0.8646 - val_accuracy: 0.6552\n",
            "Epoch 86/120\n",
            "158/158 [==============================] - 3s 19ms/step - loss: 0.4311 - accuracy: 0.7739 - val_loss: 0.9059 - val_accuracy: 0.6633\n",
            "Epoch 87/120\n",
            "158/158 [==============================] - 3s 19ms/step - loss: 0.4273 - accuracy: 0.7751 - val_loss: 0.8862 - val_accuracy: 0.6510\n",
            "Epoch 88/120\n",
            "158/158 [==============================] - 3s 20ms/step - loss: 0.4245 - accuracy: 0.7771 - val_loss: 0.9529 - val_accuracy: 0.6643\n",
            "Epoch 89/120\n",
            "158/158 [==============================] - 4s 22ms/step - loss: 0.4211 - accuracy: 0.7799 - val_loss: 0.9391 - val_accuracy: 0.6495\n",
            "Epoch 90/120\n",
            "158/158 [==============================] - 3s 19ms/step - loss: 0.4183 - accuracy: 0.7792 - val_loss: 0.9718 - val_accuracy: 0.6505\n",
            "Epoch 91/120\n",
            "158/158 [==============================] - 3s 19ms/step - loss: 0.4116 - accuracy: 0.7834 - val_loss: 0.9843 - val_accuracy: 0.6452\n",
            "Epoch 92/120\n",
            "158/158 [==============================] - 3s 20ms/step - loss: 0.4106 - accuracy: 0.7835 - val_loss: 1.0237 - val_accuracy: 0.6529\n",
            "Epoch 93/120\n",
            "158/158 [==============================] - 4s 23ms/step - loss: 0.4053 - accuracy: 0.7867 - val_loss: 1.0397 - val_accuracy: 0.6581\n",
            "Epoch 94/120\n",
            "158/158 [==============================] - 3s 20ms/step - loss: 0.4026 - accuracy: 0.7861 - val_loss: 1.0741 - val_accuracy: 0.6552\n",
            "Epoch 95/120\n",
            "158/158 [==============================] - 3s 20ms/step - loss: 0.3985 - accuracy: 0.7906 - val_loss: 1.0940 - val_accuracy: 0.6552\n",
            "Epoch 96/120\n",
            "158/158 [==============================] - 3s 20ms/step - loss: 0.3940 - accuracy: 0.7921 - val_loss: 1.0534 - val_accuracy: 0.6500\n",
            "Epoch 97/120\n",
            "158/158 [==============================] - 4s 24ms/step - loss: 0.3911 - accuracy: 0.7923 - val_loss: 1.1295 - val_accuracy: 0.6467\n",
            "Epoch 98/120\n",
            "158/158 [==============================] - 3s 20ms/step - loss: 0.3872 - accuracy: 0.7940 - val_loss: 1.1660 - val_accuracy: 0.6490\n",
            "Epoch 99/120\n",
            "158/158 [==============================] - 3s 20ms/step - loss: 0.3839 - accuracy: 0.7959 - val_loss: 1.1902 - val_accuracy: 0.6476\n",
            "Epoch 100/120\n",
            "158/158 [==============================] - 3s 19ms/step - loss: 0.3794 - accuracy: 0.7995 - val_loss: 1.2152 - val_accuracy: 0.6438\n",
            "Epoch 101/120\n",
            "158/158 [==============================] - 4s 22ms/step - loss: 0.3767 - accuracy: 0.8000 - val_loss: 1.2841 - val_accuracy: 0.6548\n",
            "Epoch 102/120\n",
            "158/158 [==============================] - 3s 19ms/step - loss: 0.3715 - accuracy: 0.8014 - val_loss: 1.2815 - val_accuracy: 0.6476\n",
            "Epoch 103/120\n",
            "158/158 [==============================] - 3s 19ms/step - loss: 0.3690 - accuracy: 0.8041 - val_loss: 1.4216 - val_accuracy: 0.6543\n",
            "Epoch 104/120\n",
            "158/158 [==============================] - 3s 19ms/step - loss: 0.3692 - accuracy: 0.8047 - val_loss: 1.3806 - val_accuracy: 0.6519\n",
            "Epoch 105/120\n",
            "158/158 [==============================] - 4s 22ms/step - loss: 0.3651 - accuracy: 0.8062 - val_loss: 1.3585 - val_accuracy: 0.6438\n",
            "Epoch 106/120\n",
            "158/158 [==============================] - 3s 21ms/step - loss: 0.3628 - accuracy: 0.8065 - val_loss: 1.4418 - val_accuracy: 0.6514\n",
            "Epoch 107/120\n",
            "158/158 [==============================] - 3s 20ms/step - loss: 0.3553 - accuracy: 0.8115 - val_loss: 1.4305 - val_accuracy: 0.6471\n",
            "Epoch 108/120\n",
            "158/158 [==============================] - 3s 20ms/step - loss: 0.3522 - accuracy: 0.8123 - val_loss: 1.4362 - val_accuracy: 0.6419\n",
            "Epoch 109/120\n",
            "158/158 [==============================] - 4s 23ms/step - loss: 0.3473 - accuracy: 0.8162 - val_loss: 1.4993 - val_accuracy: 0.6433\n",
            "Epoch 110/120\n",
            "158/158 [==============================] - 3s 19ms/step - loss: 0.3455 - accuracy: 0.8151 - val_loss: 1.5318 - val_accuracy: 0.6462\n",
            "Epoch 111/120\n",
            "158/158 [==============================] - 3s 20ms/step - loss: 0.3450 - accuracy: 0.8163 - val_loss: 1.5035 - val_accuracy: 0.6414\n",
            "Epoch 112/120\n",
            "158/158 [==============================] - 3s 20ms/step - loss: 0.3389 - accuracy: 0.8182 - val_loss: 1.6949 - val_accuracy: 0.6567\n",
            "Epoch 113/120\n",
            "158/158 [==============================] - 4s 23ms/step - loss: 0.3387 - accuracy: 0.8195 - val_loss: 1.6228 - val_accuracy: 0.6471\n",
            "Epoch 114/120\n",
            "158/158 [==============================] - 3s 19ms/step - loss: 0.3353 - accuracy: 0.8210 - val_loss: 1.7505 - val_accuracy: 0.6524\n",
            "Epoch 115/120\n",
            "158/158 [==============================] - 3s 20ms/step - loss: 0.3326 - accuracy: 0.8232 - val_loss: 1.7932 - val_accuracy: 0.6462\n",
            "Epoch 116/120\n",
            "158/158 [==============================] - 3s 19ms/step - loss: 0.3276 - accuracy: 0.8242 - val_loss: 1.8034 - val_accuracy: 0.6562\n",
            "Epoch 117/120\n",
            "158/158 [==============================] - 4s 23ms/step - loss: 0.3263 - accuracy: 0.8249 - val_loss: 1.7144 - val_accuracy: 0.6414\n",
            "Epoch 118/120\n",
            "158/158 [==============================] - 3s 19ms/step - loss: 0.3229 - accuracy: 0.8269 - val_loss: 1.8551 - val_accuracy: 0.6490\n",
            "Epoch 119/120\n",
            "158/158 [==============================] - 3s 19ms/step - loss: 0.3232 - accuracy: 0.8276 - val_loss: 1.9199 - val_accuracy: 0.6452\n",
            "Epoch 120/120\n",
            "158/158 [==============================] - 3s 20ms/step - loss: 0.3148 - accuracy: 0.8305 - val_loss: 1.9457 - val_accuracy: 0.6500\n",
            "Training finished !!\n"
          ]
        }
      ],
      "source": [
        "history=model.fit(X_train,Y_train,batch_size=120,epochs=120, validation_split=0.1)\n",
        "print('Training finished !!')"
      ]
    },
    {
      "cell_type": "markdown",
      "metadata": {
        "id": "4Kqu648G5DsC"
      },
      "source": [
        "<h1> We need to do all the above configurations to train the model. If we will not set all settings correctly then we could not get the desired results.</h1>"
      ]
    },
    {
      "cell_type": "markdown",
      "metadata": {
        "id": "aQ72A5F4U0wr"
      },
      "source": [
        "#### Testing the Trained model on test data\n",
        "- Getting predictions/classifying the sentiments (positve/negative) on the test data using trained model."
      ]
    },
    {
      "cell_type": "code",
      "execution_count": null,
      "metadata": {
        "execution": {
          "iopub.execute_input": "2023-04-03T08:21:48.136111Z",
          "iopub.status.busy": "2023-04-03T08:21:48.135145Z",
          "iopub.status.idle": "2023-04-03T08:22:16.748346Z",
          "shell.execute_reply": "2023-04-03T08:22:16.747021Z",
          "shell.execute_reply.started": "2023-04-03T08:21:48.13606Z"
        },
        "id": "LlxD3pU9U0ws",
        "trusted": true,
        "colab": {
          "base_uri": "https://localhost:8080/"
        },
        "outputId": "400e7ec0-46cb-4dbf-e59f-f246c51458fd"
      },
      "outputs": [
        {
          "output_type": "stream",
          "name": "stdout",
          "text": [
            "282/282 [==============================] - 3s 10ms/step - loss: 1.7055 - accuracy: 0.6459\n"
          ]
        }
      ],
      "source": [
        "accr1 = model.evaluate(X_test,Y_test) #we are starting to test the model here"
      ]
    },
    {
      "cell_type": "markdown",
      "metadata": {
        "id": "h5ZOTOh14WKO"
      },
      "source": [
        "#### Accuracy\n",
        "- Accuracy is the number of correctly classify tweets from all the tweets of positive and negative.\n",
        "- For example, if the trained model classify the 70 tweets correct and 30 tweets wrong from total of 100 tweets then the accuracy score will be 70%.\n",
        "- Accuracy= Total number of correct predictions/Total number of predictions"
      ]
    },
    {
      "cell_type": "code",
      "execution_count": null,
      "metadata": {
        "execution": {
          "iopub.execute_input": "2023-04-03T08:22:16.750791Z",
          "iopub.status.busy": "2023-04-03T08:22:16.750445Z",
          "iopub.status.idle": "2023-04-03T08:22:16.758308Z",
          "shell.execute_reply": "2023-04-03T08:22:16.756728Z",
          "shell.execute_reply.started": "2023-04-03T08:22:16.75076Z"
        },
        "id": "E2bQq4jaU0wt",
        "trusted": true,
        "colab": {
          "base_uri": "https://localhost:8080/"
        },
        "outputId": "0fa8367e-f05d-45e9-a0fe-d030d3d2a653"
      },
      "outputs": [
        {
          "output_type": "stream",
          "name": "stdout",
          "text": [
            "Test set\n",
            "  Accuracy: 0.65\n"
          ]
        }
      ],
      "source": [
        "print('Test set\\n  Accuracy: {:0.2f}'.format(accr1[1])) #the accuracy of the model on test data is given below"
      ]
    },
    {
      "cell_type": "markdown",
      "metadata": {
        "id": "cVDIIBUY5DsD"
      },
      "source": [
        "#### Getting prediction of the test data and then we will compare the true labels/classes of the data with predictions\n",
        "- As the model give probabilties so we are setting a threshold 0.5. More than 0.5 will be the positive tweets and lower will be negative tweets"
      ]
    },
    {
      "cell_type": "code",
      "execution_count": null,
      "metadata": {
        "execution": {
          "iopub.execute_input": "2023-04-03T08:22:16.762381Z",
          "iopub.status.busy": "2023-04-03T08:22:16.761132Z",
          "iopub.status.idle": "2023-04-03T08:22:42.699811Z",
          "shell.execute_reply": "2023-04-03T08:22:42.698716Z",
          "shell.execute_reply.started": "2023-04-03T08:22:16.76233Z"
        },
        "id": "aDmg6Byd5DsD",
        "trusted": true,
        "colab": {
          "base_uri": "https://localhost:8080/"
        },
        "outputId": "d92a5012-7902-412a-ff27-2b9d222d2b6c"
      },
      "outputs": [
        {
          "output_type": "stream",
          "name": "stdout",
          "text": [
            "282/282 [==============================] - 2s 7ms/step\n"
          ]
        }
      ],
      "source": [
        "y_pred = model.predict(X_test) #getting predictions on the trained model\n",
        "y_pred = (y_pred > 0.5)"
      ]
    },
    {
      "cell_type": "markdown",
      "metadata": {
        "id": "40MjbuBA7Og9"
      },
      "source": [
        "#### Confusion matrix\n",
        "- These are the evaluation measures to evaluate the performance of the model.\n",
        "- Dark blue boxes are the correct predictions with the trained model and sky blue boxes shows the wrong predictions.\n",
        "- 4610 tweets correctly predicted as negative sentiments. 1399 tweets predicted positive sentiments but that were actually negative sentiments.\n",
        "- 4247 tweets correctly predicted as postive sentiments. 1744 tweets predicted negative sentiments but that were actually positive sentiments."
      ]
    },
    {
      "cell_type": "code",
      "execution_count": null,
      "metadata": {
        "execution": {
          "iopub.execute_input": "2023-04-03T08:22:42.701958Z",
          "iopub.status.busy": "2023-04-03T08:22:42.701316Z",
          "iopub.status.idle": "2023-04-03T08:22:43.004857Z",
          "shell.execute_reply": "2023-04-03T08:22:43.003346Z",
          "shell.execute_reply.started": "2023-04-03T08:22:42.701924Z"
        },
        "id": "WERD7KXs8YmQ",
        "trusted": true,
        "colab": {
          "base_uri": "https://localhost:8080/",
          "height": 963
        },
        "outputId": "21f48f00-577c-49ac-decc-74441fc266e1"
      },
      "outputs": [
        {
          "output_type": "stream",
          "name": "stdout",
          "text": [
            "\n",
            "\n",
            "confusion matrix\n",
            "\n",
            "\n",
            "[[2612 1876]\n",
            " [1311 3201]]\n",
            "\n",
            "\n"
          ]
        },
        {
          "output_type": "display_data",
          "data": {
            "text/plain": [
              "<Figure size 1000x1000 with 2 Axes>"
            ],
            "image/png": "[encoded data removed]"
          },
          "metadata": {}
        }
      ],
      "source": [
        "print('\\n')\n",
        "print(\"confusion matrix\")\n",
        "print('\\n')\n",
        "CR=confusion_matrix(Y_test, y_pred)\n",
        "print(CR)\n",
        "print('\\n')\n",
        "\n",
        "fig, ax = plot_confusion_matrix(conf_mat=CR,figsize=(10, 10),\n",
        "                                show_absolute=True,\n",
        "                                show_normed=True,\n",
        "                                colorbar=True)\n",
        "plt.show()"
      ]
    },
    {
      "cell_type": "markdown",
      "metadata": {
        "id": "wlWpCx_OXEIq"
      },
      "source": [
        "# ROC CURVE\n",
        "- ROC curve show the performance of the model as well.\n",
        "- We can see that the model started from the 0 percent predictions and then moved to true positive predictions that are correct\n",
        "- ROC curve (receiver operating characteristic curve) show the performance of a classification model at all the classification thresholds. ROC plots two parameters, True Positive Rate (correct predictions/classifications) False Positive Rate (wrong predictions/classifications)"
      ]
    },
    {
      "cell_type": "code",
      "execution_count": null,
      "metadata": {
        "execution": {
          "iopub.execute_input": "2023-04-03T08:22:43.00723Z",
          "iopub.status.busy": "2023-04-03T08:22:43.006745Z",
          "iopub.status.idle": "2023-04-03T08:22:43.179625Z",
          "shell.execute_reply": "2023-04-03T08:22:43.17843Z",
          "shell.execute_reply.started": "2023-04-03T08:22:43.007147Z"
        },
        "id": "uypTDMUZXEIq",
        "scrolled": true,
        "trusted": true,
        "colab": {
          "base_uri": "https://localhost:8080/",
          "height": 477
        },
        "outputId": "5719e7ab-cdbc-430c-fa25-b0a4851b1100"
      },
      "outputs": [
        {
          "output_type": "display_data",
          "data": {
            "text/plain": [
              "<Figure size 640x480 with 1 Axes>"
            ],
            "image/png": "[encoded data removed]"
          },
          "metadata": {}
        }
      ],
      "source": [
        "fpr, tpr, thresholds = roc_curve(Y_test, y_pred)\n",
        "roc_auc = auc(fpr, tpr)\n",
        "plt.figure()\n",
        "plt.plot(fpr, tpr, color='darkorange', lw=1, label='ROC curve (area = %0.2f)' % roc_auc)\n",
        "plt.xlim([0.0, 1.0])\n",
        "plt.ylim([0.0, 1.05])\n",
        "plt.xlabel('False Positive Rate')\n",
        "plt.ylabel('True Positive Rate')\n",
        "plt.title('ROC CURVE')\n",
        "plt.legend(loc=\"lower right\")\n",
        "plt.show()"
      ]
    },
    {
      "cell_type": "markdown",
      "metadata": {
        "id": "oScnIT9g5DsF"
      },
      "source": [
        "<div class=\"alert alert-block alert-success\">  \n",
        "<h1><center><strong>Conclusion </strong></center></h1>\n",
        "    <p>\n",
        "<li>We used the twitter sentiment analysis dataset and explored the data with different ways.</li>\n",
        "        <li>We prepared the text data of tweets by removing the unnecessary things.</li>\n",
        "          <li>We trained model based on tensorflow with all settings. </li>\n",
        "        <li>We evaluated thye model with different evaluation measures.</li>\n",
        "         <li>If you are interested to work on any text based project, you can simply apply the same methodolgy but might be you will need to change little settings like name of coloumns etc.</li>\n",
        "        <li>We worked on the classification problem and sepcifically we call it binary classification which is two class classification.</li>\n",
        "        </p>\n",
        "</div>"
      ]
    },
    {
      "cell_type": "code",
      "execution_count": null,
      "metadata": {
        "id": "vNz_X-izDpyy"
      },
      "outputs": [],
      "source": [
        "model.save('senti_anal_3.h5')"
      ]
    },
    {
      "cell_type": "code",
      "execution_count": null,
      "metadata": {
        "id": "OFOPOmRfDvXa",
        "colab": {
          "base_uri": "https://localhost:8080/"
        },
        "outputId": "aa6df65d-ecc4-4ab1-b7d1-49dcbec4f3e8"
      },
      "outputs": [
        {
          "output_type": "stream",
          "name": "stdout",
          "text": [
            "282/282 [==============================] - 2s 7ms/step\n"
          ]
        },
        {
          "output_type": "execute_result",
          "data": {
            "text/plain": [
              "array([[5.5338645e-01],\n",
              "       [5.9214210e-07],\n",
              "       [6.2639165e-01],\n",
              "       ...,\n",
              "       [9.8674822e-01],\n",
              "       [1.7064709e-04],\n",
              "       [1.3552174e-01]], dtype=float32)"
            ]
          },
          "metadata": {},
          "execution_count": 56
        }
      ],
      "source": [
        "model.predict(X_test)"
      ]
    }
  ],
  "metadata": {
    "accelerator": "GPU",
    "colab": {
      "gpuType": "T4",
      "provenance": []
    },
    "kaggle": {
      "accelerator": "none",
      "dataSources": [
        {
          "datasetId": 2477,
          "sourceId": 4140,
          "sourceType": "datasetVersion"
        }
      ],
      "dockerImageVersionId": 30075,
      "isGpuEnabled": false,
      "isInternetEnabled": true,
      "language": "python",
      "sourceType": "notebook"
    },
    "kernelspec": {
      "display_name": "Python 3",
      "name": "python3"
    },
    "language_info": {
      "codemirror_mode": {
        "name": "ipython",
        "version": 3
      },
      "file_extension": ".py",
      "mimetype": "text/x-python",
      "name": "python",
      "nbconvert_exporter": "python",
      "pygments_lexer": "ipython3",
      "version": "3.12.4"
    }
  },
  "nbformat": 4,
  "nbformat_minor": 0
}